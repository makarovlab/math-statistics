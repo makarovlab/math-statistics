{
 "cells": [
  {
   "cell_type": "code",
   "execution_count": 49,
   "metadata": {},
   "outputs": [],
   "source": [
    "import time"
   ]
  },
  {
   "cell_type": "code",
   "execution_count": 48,
   "metadata": {},
   "outputs": [],
   "source": [
    "integer_list = list(range(1,101))"
   ]
  },
  {
   "cell_type": "code",
   "execution_count": 30,
   "metadata": {},
   "outputs": [
    {
     "data": {
      "text/plain": [
       "1"
      ]
     },
     "execution_count": 30,
     "metadata": {},
     "output_type": "execute_result"
    }
   ],
   "source": [
    "integer_list[0]"
   ]
  },
  {
   "cell_type": "code",
   "execution_count": 31,
   "metadata": {},
   "outputs": [],
   "source": [
    "target = 5"
   ]
  },
  {
   "cell_type": "code",
   "execution_count": 55,
   "metadata": {},
   "outputs": [
    {
     "name": "stdout",
     "output_type": "stream",
     "text": [
      "Found\n",
      "6\n",
      "7.915496826171875e-05\n",
      "6\n",
      "2.9087066650390625e-05\n"
     ]
    }
   ],
   "source": [
    "def binsearch(target, integer_list):\n",
    "    mid = len(integer_list) // 2\n",
    "    # print(integer_list)\n",
    "    # print(integer_list[mid])\n",
    "    \n",
    "    if target == integer_list[mid]:\n",
    "        print(\"Found\")\n",
    "        return target\n",
    "    \n",
    "    if len(integer_list) > 1:\n",
    "        if target >= integer_list[mid]:\n",
    "            return binsearch(target, integer_list[mid:])\n",
    "        elif target < integer_list[mid]:\n",
    "            return binsearch(target, integer_list[:mid])\n",
    "    else:\n",
    "        return None\n",
    "\n",
    "def basic_search(target, integer_list):\n",
    "    for i in integer_list:\n",
    "        if i == target:\n",
    "            return target\n",
    "    \n",
    "    return None\n",
    "\n",
    "start_time_1 = time.time()\n",
    "\n",
    "print(binsearch(6, integer_list))\n",
    "\n",
    "end_time_1 = time.time()\n",
    "\n",
    "print(end_time_1-start_time_1)\n",
    "\n",
    "start_time = time.time()\n",
    "\n",
    "print(basic_search(6, integer_list))\n",
    "\n",
    "end_time = time.time()\n",
    "\n",
    "print(end_time-start_time)"
   ]
  }
 ],
 "metadata": {
  "kernelspec": {
   "display_name": "Python 3",
   "language": "python",
   "name": "python3"
  },
  "language_info": {
   "codemirror_mode": {
    "name": "ipython",
    "version": 3
   },
   "file_extension": ".py",
   "mimetype": "text/x-python",
   "name": "python",
   "nbconvert_exporter": "python",
   "pygments_lexer": "ipython3",
   "version": "3.10.12"
  }
 },
 "nbformat": 4,
 "nbformat_minor": 2
}
