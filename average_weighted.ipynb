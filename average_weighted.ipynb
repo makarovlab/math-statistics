{
 "cells": [
  {
   "attachments": {},
   "cell_type": "markdown",
   "metadata": {},
   "source": [
    "#### Education field"
   ]
  },
  {
   "attachments": {},
   "cell_type": "markdown",
   "metadata": {},
   "source": [
    "##### Example of Weighted Average for a School Test\n",
    "Suppose there are three assignments in a class, with a maximum score of 100 points each. The first assignment is worth 20% of the total grade, the second assignment is worth 30%, and the third assignment is worth 50%. Two students, Alice and Bob, have received the following scores:\n",
    "\n",
    "- Alice: Assignment 1 - 80 points, Assignment 2 - 90 points, Assignment 3 - 70 points\n",
    "- Bob: Assignment 1 - 70 points, Assignment 2 - 80 points, Assignment 3 - 85 points\n",
    "\n",
    "To calculate their final grades, we can use a weighted average formula, where the weights are the percentage of the total grade assigned to each assignment:\n",
    "\n",
    "- Alice's grade: (80 * 0.2) + (90 * 0.3) + (70 * 0.5) = 77\n",
    "- Bob's grade: (70 * 0.2) + (80 * 0.3) + (85 * 0.5) = 80.5\n",
    "\n",
    "In this case, Alice received a lower grade than Bob, even though she scored higher on the first and second assignments. This is because the third assignment was worth more and Bob scored higher on it. The weighted average allows us to take into account the different importance of each assignment and calculate a more accurate final grade for each student."
   ]
  },
  {
   "cell_type": "code",
   "execution_count": 2,
   "metadata": {},
   "outputs": [
    {
     "name": "stdout",
     "output_type": "stream",
     "text": [
      "Student 1: 83.50\n",
      "Student 2: 72.50\n",
      "Student 3: 70.40\n",
      "Student 4: 78.50\n"
     ]
    }
   ],
   "source": [
    "# Create list of weights (sum of weights must be equal to 1)\n",
    "weights = [0.2, 0.3, 0.4, 0.1]\n",
    "\n",
    "# Create list of student's marks\n",
    "scores = [\n",
    "    [77, 84, 92, 61],\n",
    "    [83, 71, 63, 94],\n",
    "    [98, 81, 55, 45],\n",
    "    [67, 92, 88, 23]\n",
    "]\n",
    "\n",
    "# Calculate final marks\n",
    "for i in range(len(scores)):\n",
    "    weighted_sum = 0\n",
    "    for j in range(len(weights)):\n",
    "        weighted_sum += scores[i][j] * weights[j]\n",
    "    final_score = weighted_sum / sum(weights)\n",
    "    print(\"Student {}: {:.2f}\".format(i+1, final_score))"
   ]
  },
  {
   "attachments": {},
   "cell_type": "markdown",
   "metadata": {},
   "source": [
    "#### Medicine field"
   ]
  },
  {
   "attachments": {},
   "cell_type": "markdown",
   "metadata": {},
   "source": [
    "Suppose a clinical trial is being conducted to evaluate the effectiveness of a new drug for treating a particular disease. The trial involves administering the drug to a group of patients and monitoring their progress over time. The primary endpoint of the trial is a reduction in the symptoms associated with the disease, as measured by a validated scoring system.\n",
    "\n",
    "However, not all symptoms are equally important or severe, and some may be more responsive to the drug than others. To account for this, the trial may use a weighted scoring system, where each symptom is assigned a weight based on its importance and responsiveness to the drug. For example, a symptom that is highly debilitating and difficult to treat may be assigned a higher weight than a symptom that is relatively minor and easily managed.\n",
    "\n",
    "At the end of the trial, the scores for each symptom are added up, with each score multiplied by its corresponding weight. The total weighted score is then used to determine the overall effectiveness of the drug. This approach allows for a more nuanced and accurate assessment of the drug's effectiveness, taking into account the varying importance of different symptoms."
   ]
  },
  {
   "cell_type": "code",
   "execution_count": 4,
   "metadata": {},
   "outputs": [
    {
     "name": "stdout",
     "output_type": "stream",
     "text": [
      "Symptom scores: [4, 6, 2, 8, 5]\n",
      "Symptom weights: [0.2, 0.3, 0.1, 0.4, 0.2]\n",
      "Weighted sum: 7.0\n",
      "Weighted average: 5.833333333333334\n"
     ]
    }
   ],
   "source": [
    "# Define the symptom scores and weights\n",
    "symptom_scores = [4, 6, 2, 8, 5]  # scores for each symptom\n",
    "symptom_weights = [0.2, 0.3, 0.1, 0.4, 0.2]  # weights for each symptom\n",
    "\n",
    "# Calculate the weighted sum of symptom scores\n",
    "weighted_sum = sum(score * weight for score, weight in zip(symptom_scores, symptom_weights))\n",
    "\n",
    "# Calculate the weighted average of symptom scores\n",
    "weighted_avg = weighted_sum / sum(symptom_weights)\n",
    "\n",
    "# Print the results\n",
    "print(\"Symptom scores:\", symptom_scores)\n",
    "print(\"Symptom weights:\", symptom_weights)\n",
    "print(\"Weighted sum:\", weighted_sum)\n",
    "print(\"Weighted average:\", weighted_avg)"
   ]
  },
  {
   "attachments": {},
   "cell_type": "markdown",
   "metadata": {},
   "source": [
    "In this example, we have five symptoms with corresponding scores and weights stored in lists. We use the zip() function to iterate over the two lists in parallel and multiply each symptom score by its corresponding weight. The resulting products are summed to obtain the weighted sum of symptom scores.\n",
    "\n",
    "The weighted average is then calculated by dividing the weighted sum by the total weight (which is obtained by summing the weights). Finally, we print out the original symptom scores, weights, weighted sum, and weighted average."
   ]
  }
 ],
 "metadata": {
  "kernelspec": {
   "display_name": "Python 3",
   "language": "python",
   "name": "python3"
  },
  "language_info": {
   "codemirror_mode": {
    "name": "ipython",
    "version": 3
   },
   "file_extension": ".py",
   "mimetype": "text/x-python",
   "name": "python",
   "nbconvert_exporter": "python",
   "pygments_lexer": "ipython3",
   "version": "3.10.6"
  },
  "orig_nbformat": 4
 },
 "nbformat": 4,
 "nbformat_minor": 2
}
