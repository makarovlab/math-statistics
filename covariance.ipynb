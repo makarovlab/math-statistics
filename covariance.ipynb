{
 "cells": [
  {
   "attachments": {},
   "cell_type": "markdown",
   "metadata": {},
   "source": [
    "#### Covariance\n",
    "\n",
    "Covariance is a measure of joint variability of two random variables.\n",
    "\n",
    "If the greater values of variable mainly correspond with greater values of the other variable, and the same holds for the lesser values (that is, the variables tend to show similar behaviour), the covariance is positive. In the opposite case, when the greater values of one variable mainly correspond to the fewer values of the other - the covariance is negative.The sign of the covarience, therefor, shows tendency in the linear relationship between the variables.\n",
    "\n",
    "$cov(X,Y) = E[(X - E[X])(Y - E[Y])]$\n",
    "\n",
    "$cov(X,Y) = \\frac{1}{n}\\sum_{i=0}^n{(x_i - \\overline{x})(y_i - \\overline{y})}$"
   ]
  }
 ],
 "metadata": {
  "language_info": {
   "name": "python"
  },
  "orig_nbformat": 4
 },
 "nbformat": 4,
 "nbformat_minor": 2
}
