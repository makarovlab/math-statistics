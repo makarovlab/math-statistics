{
 "cells": [
  {
   "cell_type": "code",
   "execution_count": 81,
   "metadata": {},
   "outputs": [],
   "source": [
    "from keras.models import Sequential\n",
    "from keras.layers import Dense\n",
    "from keras.optimizers import gradient_descent_v2\n",
    "from keras.losses import categorical_crossentropy\n",
    "from keras.metrics import accuracy\n",
    "from keras.utils import to_categorical\n",
    "from sklearn.datasets import load_iris\n",
    "from sklearn.model_selection import train_test_split"
   ]
  },
  {
   "cell_type": "code",
   "execution_count": 82,
   "metadata": {},
   "outputs": [],
   "source": [
    "iris = load_iris()"
   ]
  },
  {
   "cell_type": "code",
   "execution_count": 83,
   "metadata": {},
   "outputs": [],
   "source": [
    "data = iris.data\n",
    "target = iris.target"
   ]
  },
  {
   "cell_type": "code",
   "execution_count": 84,
   "metadata": {},
   "outputs": [],
   "source": [
    "cats = to_categorical(target)"
   ]
  },
  {
   "cell_type": "code",
   "execution_count": 85,
   "metadata": {},
   "outputs": [],
   "source": [
    "X_train, X_test, y_train, y_test = train_test_split(data, cats)"
   ]
  },
  {
   "cell_type": "code",
   "execution_count": 86,
   "metadata": {},
   "outputs": [
    {
     "name": "stdout",
     "output_type": "stream",
     "text": [
      "Model: \"sequential_22\"\n",
      "_________________________________________________________________\n",
      " Layer (type)                Output Shape              Param #   \n",
      "=================================================================\n",
      " dense_27 (Dense)            (None, 3)                 15        \n",
      "                                                                 \n",
      "=================================================================\n",
      "Total params: 15\n",
      "Trainable params: 15\n",
      "Non-trainable params: 0\n",
      "_________________________________________________________________\n"
     ]
    }
   ],
   "source": [
    "model = Sequential()\n",
    "model.add(Dense(3, activation=\"softmax\", input_shape=(4,)))\n",
    "\n",
    "optimizer = gradient_descent_v2.SGD(learning_rate=0.01)\n",
    "model.compile(optimizer=optimizer, metrics=accuracy, loss=categorical_crossentropy)\n",
    "model.summary()"
   ]
  },
  {
   "cell_type": "code",
   "execution_count": 87,
   "metadata": {},
   "outputs": [
    {
     "name": "stdout",
     "output_type": "stream",
     "text": [
      "Epoch 1/5\n"
     ]
    },
    {
     "name": "stdout",
     "output_type": "stream",
     "text": [
      "4/4 [==============================] - 1s 67ms/step - loss: 1.1798 - accuracy: 0.0000e+00 - val_loss: 1.1872 - val_accuracy: 0.0000e+00\n",
      "Epoch 2/5\n",
      "4/4 [==============================] - 0s 15ms/step - loss: 1.0504 - accuracy: 0.0000e+00 - val_loss: 1.1048 - val_accuracy: 0.0000e+00\n",
      "Epoch 3/5\n",
      "4/4 [==============================] - 0s 13ms/step - loss: 1.0082 - accuracy: 0.0000e+00 - val_loss: 1.0644 - val_accuracy: 0.0000e+00\n",
      "Epoch 4/5\n",
      "4/4 [==============================] - 0s 11ms/step - loss: 0.9772 - accuracy: 0.0000e+00 - val_loss: 1.0401 - val_accuracy: 0.0000e+00\n",
      "Epoch 5/5\n",
      "4/4 [==============================] - 0s 12ms/step - loss: 0.9550 - accuracy: 0.0000e+00 - val_loss: 1.0170 - val_accuracy: 0.0000e+00\n"
     ]
    },
    {
     "data": {
      "text/plain": [
       "<keras.callbacks.History at 0x7fe56042b8b0>"
      ]
     },
     "execution_count": 87,
     "metadata": {},
     "output_type": "execute_result"
    }
   ],
   "source": [
    "model.fit(X_train, y_train, validation_data=(X_test, y_test), epochs=5)"
   ]
  },
  {
   "cell_type": "code",
   "execution_count": 90,
   "metadata": {},
   "outputs": [
    {
     "name": "stdout",
     "output_type": "stream",
     "text": [
      "2/2 [==============================] - 0s 2ms/step\n"
     ]
    },
    {
     "data": {
      "text/plain": [
       "array([[0.17076401, 0.50152194, 0.32771403],\n",
       "       [0.18628626, 0.37863168, 0.43508196],\n",
       "       [0.29516095, 0.21765278, 0.4871863 ],\n",
       "       [0.18236288, 0.4546425 , 0.36299464],\n",
       "       [0.54524684, 0.19165197, 0.2631011 ],\n",
       "       [0.1770039 , 0.37251702, 0.45047903],\n",
       "       [0.28966507, 0.30233458, 0.40800026],\n",
       "       [0.171068  , 0.4333577 , 0.3955743 ],\n",
       "       [0.10498874, 0.63392067, 0.26109073],\n",
       "       [0.2467301 , 0.19298992, 0.56027997],\n",
       "       [0.5090322 , 0.16372843, 0.3272394 ],\n",
       "       [0.2464047 , 0.2786018 , 0.47499353],\n",
       "       [0.14057742, 0.4953296 , 0.36409307],\n",
       "       [0.16553111, 0.4208999 , 0.41356885],\n",
       "       [0.27807483, 0.2302943 , 0.49163094],\n",
       "       [0.25530672, 0.31086746, 0.43382588],\n",
       "       [0.19783692, 0.33642685, 0.46573636],\n",
       "       [0.181969  , 0.27401787, 0.5440131 ],\n",
       "       [0.20885059, 0.3378269 , 0.45332244],\n",
       "       [0.48329195, 0.19014663, 0.3265615 ],\n",
       "       [0.3025961 , 0.21353635, 0.48386756],\n",
       "       [0.2496596 , 0.2530802 , 0.4972603 ],\n",
       "       [0.50469697, 0.14831737, 0.34698564],\n",
       "       [0.26139352, 0.3114789 , 0.4271276 ],\n",
       "       [0.13498783, 0.28328142, 0.5817308 ],\n",
       "       [0.16498315, 0.45910397, 0.37591285],\n",
       "       [0.12967344, 0.57267267, 0.2976539 ],\n",
       "       [0.21914133, 0.23602612, 0.54483247],\n",
       "       [0.47755185, 0.23744664, 0.2850015 ],\n",
       "       [0.48916548, 0.19751687, 0.3133176 ],\n",
       "       [0.21837935, 0.43363354, 0.34798703],\n",
       "       [0.5088789 , 0.22795032, 0.2631709 ],\n",
       "       [0.29314905, 0.28413126, 0.42271966],\n",
       "       [0.54950947, 0.15712483, 0.2933657 ],\n",
       "       [0.14094086, 0.48978773, 0.3692715 ],\n",
       "       [0.27869445, 0.26344964, 0.4578559 ],\n",
       "       [0.4933379 , 0.19884044, 0.30782166],\n",
       "       [0.25199705, 0.30994627, 0.4380567 ]], dtype=float32)"
      ]
     },
     "execution_count": 90,
     "metadata": {},
     "output_type": "execute_result"
    }
   ],
   "source": [
    "model.predict(X_test)"
   ]
  },
  {
   "cell_type": "code",
   "execution_count": 93,
   "metadata": {},
   "outputs": [
    {
     "data": {
      "text/plain": [
       "array([0., 1., 0.], dtype=float32)"
      ]
     },
     "execution_count": 93,
     "metadata": {},
     "output_type": "execute_result"
    }
   ],
   "source": [
    "y_test[2]"
   ]
  }
 ],
 "metadata": {
  "kernelspec": {
   "display_name": "Python 3",
   "language": "python",
   "name": "python3"
  },
  "language_info": {
   "codemirror_mode": {
    "name": "ipython",
    "version": 3
   },
   "file_extension": ".py",
   "mimetype": "text/x-python",
   "name": "python",
   "nbconvert_exporter": "python",
   "pygments_lexer": "ipython3",
   "version": "3.10.12"
  },
  "orig_nbformat": 4
 },
 "nbformat": 4,
 "nbformat_minor": 2
}
