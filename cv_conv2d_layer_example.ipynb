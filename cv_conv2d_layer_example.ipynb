{
 "cells": [
  {
   "cell_type": "markdown",
   "metadata": {},
   "source": [
    "##### Explain Conv2d layer\n",
    "\n",
    "Algorithm of this layer came from anatomy of the human eye.\n",
    "Scientists found that neurons don't have connection to each light receptor. Instead one neuron connects to group of light receptors.\n",
    "But eye receptors fully connected to neurons. It means that our brain receives signals from different groups of neurons instead of getting it from each neuron directly.\n",
    "\n",
    "Let's explain this approach mathematically."
   ]
  }
 ],
 "metadata": {
  "language_info": {
   "name": "python"
  },
  "orig_nbformat": 4
 },
 "nbformat": 4,
 "nbformat_minor": 2
}
