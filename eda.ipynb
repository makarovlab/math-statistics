{
 "cells": [
  {
   "cell_type": "markdown",
   "metadata": {},
   "source": [
    "#### Exploratory data analysis\n",
    "\n",
    "##### Purposes\n",
    "- explore features\n",
    "    - detect anomalies\n",
    "    - detect blank values\n",
    "- generate ideas for features processing\n",
    "- generate ideas for new features (feature engineering)\n",
    "\n",
    "##### Steps\n",
    "1. Explore target value (distribution, frequency, central tendency)\n",
    "2. Explore features used for prediction (separately, features corelection)\n",
    "3. Explore how features impact target value"
   ]
  },
  {
   "cell_type": "markdown",
   "metadata": {},
   "source": [
    "Correlation matrix helps to understand relationship between features.\n",
    "\n",
    "| Correlation value | 0.1 - 0.3 | 0.3 - 0.5 | 0.5 - 0.7 | 0.7 - 0.9 | 0.7 - 0.9 |\n",
    "| - | - | - | - | - | - |\n",
    "| Relationshipt power | Weak | Moderate | Perceptible | High | Very high |"
   ]
  },
  {
   "cell_type": "markdown",
   "metadata": {},
   "source": [
    "For categorical features we use adjacent matrix."
   ]
  },
  {
   "cell_type": "markdown",
   "metadata": {},
   "source": [
    "To analyze extreme values in dataset we can use histograms and bars with moustaches."
   ]
  }
 ],
 "metadata": {
  "language_info": {
   "name": "python"
  },
  "orig_nbformat": 4
 },
 "nbformat": 4,
 "nbformat_minor": 2
}
