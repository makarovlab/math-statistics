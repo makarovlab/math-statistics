{
 "cells": [
  {
   "cell_type": "code",
   "execution_count": 83,
   "metadata": {},
   "outputs": [],
   "source": [
    "import seaborn as sns\n",
    "import pandas as pd\n",
    "import matplotlib.pyplot as plt"
   ]
  },
  {
   "cell_type": "markdown",
   "metadata": {},
   "source": [
    "##### Task for BoxPlot learning.\n",
    "\n",
    "Create two boxplots for two countries groups with information about average length of life in 2019.\n",
    "\n",
    "##### Countries group A\n",
    "|Country|average length of life, years|\n",
    "|-|-|\n",
    "|Botswana|66.485|\n",
    "|Burkina Faso|60.739|\n",
    "|Angola|58.416|\n",
    "|Central African Republic|51.081|\n",
    "|Cameroon|58.029|\n",
    "|Ecuador|74.282|\n",
    "|Nigeria|53.789|\n",
    "|Nicaragua|70.944|\n",
    "|Somalia|55.725|\n",
    "\n",
    "##### Countries group B\n",
    "|Country|average length of life, years|\n",
    "|-|-|\n",
    "|Austria|79.5|\n",
    "|Australia|80.9|\n",
    "|Switzerland|81.9|\n",
    "|Canada|80|\n",
    "|Czech Republic|76.3|\n",
    "|Germany|78.6|\n",
    "|Spain|80.9|\n",
    "|Estonia|74.4|\n",
    "|Ireland|80.4|"
   ]
  },
  {
   "cell_type": "code",
   "execution_count": 128,
   "metadata": {},
   "outputs": [],
   "source": [
    "dataset = {\n",
    "  \"country\": [\n",
    "    \"Botswana\", \"Burkina Faso\", \"Angola\", \"Central African Republic\",\n",
    "    \"Cameroon\", \"Ecuador\", \"Nigeria\", \"Nicaragua\", \"Somalia\",\n",
    "    \"Austria\", \"Australia\", \"Switzerland\", \"Canada\", \"Czech Republic\",\n",
    "    \"Germany\", \"Spain\", \"Estonia\",\"Ireland\"\n",
    "  ],\n",
    "  \"average_age\": [\n",
    "    66.485, 60.739, 58.416, 51.081, 58.029,\n",
    "    74.282, 53.789, 70.944, 55.725, 79.5, 80.9,\n",
    "    81.9, 80, 76.3, 78.6, 80.9, 74.4, 80.4\n",
    "  ],\n",
    "  \"group\": [\n",
    "    \"A\", \"A\", \"A\", \"A\", \"A\", \"A\", \"A\", \"A\", \"A\",\n",
    "    \"B\", \"B\", \"B\", \"B\", \"B\", \"B\", \"B\", \"B\", \"B\",\n",
    "  ]\n",
    "}\n",
    "\n",
    "\n",
    "df = pd.DataFrame.from_dict(dataset)"
   ]
  },
  {
   "cell_type": "code",
   "execution_count": 129,
   "metadata": {},
   "outputs": [
    {
     "data": {
      "text/html": [
       "<div>\n",
       "<style scoped>\n",
       "    .dataframe tbody tr th:only-of-type {\n",
       "        vertical-align: middle;\n",
       "    }\n",
       "\n",
       "    .dataframe tbody tr th {\n",
       "        vertical-align: top;\n",
       "    }\n",
       "\n",
       "    .dataframe thead tr th {\n",
       "        text-align: left;\n",
       "    }\n",
       "\n",
       "    .dataframe thead tr:last-of-type th {\n",
       "        text-align: right;\n",
       "    }\n",
       "</style>\n",
       "<table border=\"1\" class=\"dataframe\">\n",
       "  <thead>\n",
       "    <tr>\n",
       "      <th></th>\n",
       "      <th colspan=\"8\" halign=\"left\">average_age</th>\n",
       "    </tr>\n",
       "    <tr>\n",
       "      <th></th>\n",
       "      <th>count</th>\n",
       "      <th>mean</th>\n",
       "      <th>std</th>\n",
       "      <th>min</th>\n",
       "      <th>25%</th>\n",
       "      <th>50%</th>\n",
       "      <th>75%</th>\n",
       "      <th>max</th>\n",
       "    </tr>\n",
       "    <tr>\n",
       "      <th>group</th>\n",
       "      <th></th>\n",
       "      <th></th>\n",
       "      <th></th>\n",
       "      <th></th>\n",
       "      <th></th>\n",
       "      <th></th>\n",
       "      <th></th>\n",
       "      <th></th>\n",
       "    </tr>\n",
       "  </thead>\n",
       "  <tbody>\n",
       "    <tr>\n",
       "      <th>A</th>\n",
       "      <td>9.0</td>\n",
       "      <td>61.054444</td>\n",
       "      <td>7.89886</td>\n",
       "      <td>51.081</td>\n",
       "      <td>55.725</td>\n",
       "      <td>58.416</td>\n",
       "      <td>66.485</td>\n",
       "      <td>74.282</td>\n",
       "    </tr>\n",
       "    <tr>\n",
       "      <th>B</th>\n",
       "      <td>9.0</td>\n",
       "      <td>79.211111</td>\n",
       "      <td>2.42510</td>\n",
       "      <td>74.400</td>\n",
       "      <td>78.600</td>\n",
       "      <td>80.000</td>\n",
       "      <td>80.900</td>\n",
       "      <td>81.900</td>\n",
       "    </tr>\n",
       "  </tbody>\n",
       "</table>\n",
       "</div>"
      ],
      "text/plain": [
       "      average_age                                                            \n",
       "            count       mean      std     min     25%     50%     75%     max\n",
       "group                                                                        \n",
       "A             9.0  61.054444  7.89886  51.081  55.725  58.416  66.485  74.282\n",
       "B             9.0  79.211111  2.42510  74.400  78.600  80.000  80.900  81.900"
      ]
     },
     "execution_count": 129,
     "metadata": {},
     "output_type": "execute_result"
    }
   ],
   "source": [
    "df.groupby('group').describe()"
   ]
  },
  {
   "cell_type": "code",
   "execution_count": 41,
   "metadata": {},
   "outputs": [
    {
     "data": {
      "text/plain": [
       "<AxesSubplot:xlabel='group', ylabel='average_age'>"
      ]
     },
     "execution_count": 41,
     "metadata": {},
     "output_type": "execute_result"
    },
    {
     "data": {
      "image/png": "[encoded data removed]",
      "text/plain": [
       "<Figure size 640x480 with 1 Axes>"
      ]
     },
     "metadata": {},
     "output_type": "display_data"
    }
   ],
   "source": [
    "sns.boxplot(\n",
    "    data=df,\n",
    "    x=\"group\",\n",
    "    y='average_age'\n",
    "    )"
   ]
  },
  {
   "cell_type": "code",
   "execution_count": 121,
   "metadata": {},
   "outputs": [
    {
     "data": {
      "text/html": [
       "<div>\n",
       "<style scoped>\n",
       "    .dataframe tbody tr th:only-of-type {\n",
       "        vertical-align: middle;\n",
       "    }\n",
       "\n",
       "    .dataframe tbody tr th {\n",
       "        vertical-align: top;\n",
       "    }\n",
       "\n",
       "    .dataframe thead th {\n",
       "        text-align: right;\n",
       "    }\n",
       "</style>\n",
       "<table border=\"1\" class=\"dataframe\">\n",
       "  <thead>\n",
       "    <tr style=\"text-align: right;\">\n",
       "      <th></th>\n",
       "      <th>count</th>\n",
       "      <th>mean</th>\n",
       "      <th>std</th>\n",
       "      <th>min</th>\n",
       "      <th>25%</th>\n",
       "      <th>50%</th>\n",
       "      <th>75%</th>\n",
       "      <th>max</th>\n",
       "      <th>group</th>\n",
       "    </tr>\n",
       "  </thead>\n",
       "  <tbody>\n",
       "    <tr>\n",
       "      <th>average_age</th>\n",
       "      <td>9.0</td>\n",
       "      <td>79.211111</td>\n",
       "      <td>2.42510</td>\n",
       "      <td>74.400</td>\n",
       "      <td>78.600</td>\n",
       "      <td>80.000</td>\n",
       "      <td>80.900</td>\n",
       "      <td>81.900</td>\n",
       "      <td>B</td>\n",
       "    </tr>\n",
       "    <tr>\n",
       "      <th>average_age</th>\n",
       "      <td>9.0</td>\n",
       "      <td>61.054444</td>\n",
       "      <td>7.89886</td>\n",
       "      <td>51.081</td>\n",
       "      <td>55.725</td>\n",
       "      <td>58.416</td>\n",
       "      <td>66.485</td>\n",
       "      <td>74.282</td>\n",
       "      <td>A</td>\n",
       "    </tr>\n",
       "  </tbody>\n",
       "</table>\n",
       "</div>"
      ],
      "text/plain": [
       "             count       mean      std     min     25%     50%     75%  \\\n",
       "average_age    9.0  79.211111  2.42510  74.400  78.600  80.000  80.900   \n",
       "average_age    9.0  61.054444  7.89886  51.081  55.725  58.416  66.485   \n",
       "\n",
       "                max group  \n",
       "average_age  81.900     B  \n",
       "average_age  74.282     A  "
      ]
     },
     "execution_count": 121,
     "metadata": {},
     "output_type": "execute_result"
    }
   ],
   "source": [
    "dT_A = df[df['group'] == 'A'].describe().T\n",
    "dT_A['group'] = 'A'\n",
    "\n",
    "dT_B = df[df['group'] == 'B'].describe().T\n",
    "dT_B['group'] = 'B'\n",
    "\n",
    "dT_AB = pd.concat([dT_B, dT_A])\n",
    "dT_AB"
   ]
  },
  {
   "cell_type": "code",
   "execution_count": 131,
   "metadata": {},
   "outputs": [
    {
     "data": {
      "image/png": "[encoded data removed]",
      "text/plain": [
       "<Figure size 2000x480 with 7 Axes>"
      ]
     },
     "metadata": {},
     "output_type": "display_data"
    }
   ],
   "source": [
    "COLUMNS = ['mean', 'std', 'min', '25%', '50%', '75%', 'max']\n",
    "\n",
    "fig, axs = plt.subplots(ncols=7)\n",
    "fig.set_figwidth(20)\n",
    "\n",
    "for index, column in enumerate(COLUMNS):\n",
    "    if column not in ['count', 'group']:\n",
    "        sns.barplot(x=dT_AB['group'], y=dT_AB[column], ax=axs[index])"
   ]
  },
  {
   "cell_type": "code",
   "execution_count": 146,
   "metadata": {},
   "outputs": [
    {
     "data": {
      "text/html": [
       "<div>\n",
       "<style scoped>\n",
       "    .dataframe tbody tr th:only-of-type {\n",
       "        vertical-align: middle;\n",
       "    }\n",
       "\n",
       "    .dataframe tbody tr th {\n",
       "        vertical-align: top;\n",
       "    }\n",
       "\n",
       "    .dataframe thead th {\n",
       "        text-align: right;\n",
       "    }\n",
       "</style>\n",
       "<table border=\"1\" class=\"dataframe\">\n",
       "  <thead>\n",
       "    <tr style=\"text-align: right;\">\n",
       "      <th></th>\n",
       "      <th>b_minus_a_delta</th>\n",
       "    </tr>\n",
       "  </thead>\n",
       "  <tbody>\n",
       "    <tr>\n",
       "      <th>mean</th>\n",
       "      <td>18.156667</td>\n",
       "    </tr>\n",
       "    <tr>\n",
       "      <th>std</th>\n",
       "      <td>-5.473760</td>\n",
       "    </tr>\n",
       "    <tr>\n",
       "      <th>min</th>\n",
       "      <td>23.319000</td>\n",
       "    </tr>\n",
       "    <tr>\n",
       "      <th>25%</th>\n",
       "      <td>22.875000</td>\n",
       "    </tr>\n",
       "    <tr>\n",
       "      <th>50%</th>\n",
       "      <td>21.584000</td>\n",
       "    </tr>\n",
       "    <tr>\n",
       "      <th>75%</th>\n",
       "      <td>14.415000</td>\n",
       "    </tr>\n",
       "    <tr>\n",
       "      <th>max</th>\n",
       "      <td>7.618000</td>\n",
       "    </tr>\n",
       "  </tbody>\n",
       "</table>\n",
       "</div>"
      ],
      "text/plain": [
       "      b_minus_a_delta\n",
       "mean        18.156667\n",
       "std         -5.473760\n",
       "min         23.319000\n",
       "25%         22.875000\n",
       "50%         21.584000\n",
       "75%         14.415000\n",
       "max          7.618000"
      ]
     },
     "execution_count": 146,
     "metadata": {},
     "output_type": "execute_result"
    }
   ],
   "source": [
    "B_values, A_values = dT_AB[COLUMNS].values\n",
    "\n",
    "cols = [f\"{column}_delta\" for column in COLUMNS]\n",
    "vals = B_values - A_values\n",
    "\n",
    "pd.DataFrame(vals, COLUMNS, columns=['b_minus_a_delta'])"
   ]
  },
  {
   "cell_type": "markdown",
   "metadata": {},
   "source": [
    "##### Conclusion\n",
    "\n",
    "1. People in B leave 18 years longer then in A (average).\n",
    "2. Variation of data bigger in A then in B (std).\n",
    "3. Minimum life length in A 23 years less then in B.\n",
    "4. 75% of people live longer in B then in A (14 years).\n",
    "5. 50% of people live longer in B then in A (22 years).\n",
    "6. 25% of people live longer in B then in A (23 years)."
   ]
  }
 ],
 "metadata": {
  "kernelspec": {
   "display_name": "Python 3",
   "language": "python",
   "name": "python3"
  },
  "language_info": {
   "codemirror_mode": {
    "name": "ipython",
    "version": 3
   },
   "file_extension": ".py",
   "mimetype": "text/x-python",
   "name": "python",
   "nbconvert_exporter": "python",
   "pygments_lexer": "ipython3",
   "version": "3.10.6"
  },
  "orig_nbformat": 4
 },
 "nbformat": 4,
 "nbformat_minor": 2
}
