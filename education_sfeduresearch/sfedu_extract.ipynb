{
 "cells": [
  {
   "cell_type": "code",
   "execution_count": 55,
   "metadata": {},
   "outputs": [],
   "source": [
    "import pandas as pd\n",
    "from bs4 import BeautifulSoup\n",
    "import requests\n",
    "import re"
   ]
  },
  {
   "cell_type": "code",
   "execution_count": 19,
   "metadata": {},
   "outputs": [],
   "source": [
    "html = requests.get(\"https://sfedu.ru/www/stat_pages22.show?p=EDU/N14116/D\").text"
   ]
  },
  {
   "cell_type": "code",
   "execution_count": 57,
   "metadata": {},
   "outputs": [],
   "source": [
    "with open(\"table.html\", \"r\") as file:\n",
    "    html = file.read()"
   ]
  },
  {
   "cell_type": "code",
   "execution_count": 87,
   "metadata": {},
   "outputs": [],
   "source": [
    "soup = BeautifulSoup(html)\n",
    "\n",
    "\n",
    "def get_univercitites():\n",
    "    for table_row in soup.find_all(\"tr\"):\n",
    "        cells = table_row.find_all(\"td\")\n",
    "\n",
    "        if re.match(r'\\d{2}\\.\\d{2}\\.\\d{2}', cells[0].text) != None:\n",
    "            ed_id = cells[0].text            \n",
    "            doc_links = [el.attrs[\"href\"] for el in table_row.find_all(\"a\") if \"Документы\" in el.text]\n",
    "\n",
    "            if len(doc_links) > 0:\n",
    "                yield (ed_id, doc_links[0])"
   ]
  },
  {
   "cell_type": "code",
   "execution_count": 92,
   "metadata": {},
   "outputs": [],
   "source": [
    "univercities = list(get_univercitites())"
   ]
  },
  {
   "cell_type": "code",
   "execution_count": 110,
   "metadata": {},
   "outputs": [],
   "source": [
    "def gen_dfs():\n",
    "    for ed_id, link in univercities:\n",
    "        df = pd.read_html(link)[0]\n",
    "        df[\"ed_id\"] = ed_id\n",
    "        yield df\n",
    "\n",
    "dt = pd.concat(gen_dfs())\n",
    "dt.to_csv(\"disciplines_sfedu_extended.csv\", index=False)\n",
    "# df = pd.concat([[\"ORG\"] = ed_id for ed_id, link in univercities])\n",
    "# df.to_csv(\"disciplines_sfedu.csv\", index=False)\n",
    "# dfs = pd.read_html(doc_links[2])\n",
    "# dfs[0]"
   ]
  }
 ],
 "metadata": {
  "kernelspec": {
   "display_name": "Python 3",
   "language": "python",
   "name": "python3"
  },
  "language_info": {
   "codemirror_mode": {
    "name": "ipython",
    "version": 3
   },
   "file_extension": ".py",
   "mimetype": "text/x-python",
   "name": "python",
   "nbconvert_exporter": "python",
   "pygments_lexer": "ipython3",
   "version": "3.10.6"
  },
  "orig_nbformat": 4
 },
 "nbformat": 4,
 "nbformat_minor": 2
}
