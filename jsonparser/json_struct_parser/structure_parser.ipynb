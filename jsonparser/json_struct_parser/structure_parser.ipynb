{
 "cells": [
  {
   "cell_type": "code",
   "execution_count": 12,
   "metadata": {},
   "outputs": [],
   "source": [
    "data_sample = {\n",
    "    \"response\": {\n",
    "        \"stores\": [\n",
    "            {\n",
    "                \"addr\": \"Moscow, Smolnaya, 1\",\n",
    "                \"phoneNumber\": \"(967) 2874621\",\n",
    "                \"latitude\": \"47.3872\",\n",
    "                \"longitude\": \"12.8474\",\n",
    "                \"workHours\": {\n",
    "                    \"Mon\": \"8:00-18:00\",\n",
    "                    \"Tus\": \"8:00-18:00\",\n",
    "                    \"Wed\": \"8:00-18:00\",\n",
    "                    \"Thi\": \"8:00-18:00\",\n",
    "                    \"Fri\": \"8:00-18:00\",\n",
    "                    \"Sat\": \"8:00-18:00\",\n",
    "                    \"Sun\": \"8:00-18:00\",\n",
    "                } \n",
    "            },\n",
    "        ],\n",
    "        \"userdata\": \"session-uuid\",\n",
    "        \"token\": 13726,\n",
    "        \"newuser\": True\n",
    "    }\n",
    "}"
   ]
  },
  {
   "cell_type": "code",
   "execution_count": null,
   "metadata": {},
   "outputs": [],
   "source": [
    "output_example = {\n",
    "    \"response\": {\n",
    "        \"type\": \"dict\",\n",
    "        \"value\": {\n",
    "            \"stores\": {\n",
    "                \"type\": \"list\",\n",
    "                \"value\": [\n",
    "                    {\n",
    "                        \"addr\": {\n",
    "                            \"type\": \"str\",\n",
    "                            \"value\": \"Moscow, Smolnaya, 1\",\n",
    "                        },\n",
    "                        \"phoneNumber\": {\n",
    "                            \"type\": \"str\",\n",
    "                            \"value\": \"(967) 2874621\",\n",
    "                        },\n",
    "                        \"latitude\": {\n",
    "                            \"type\": \"str\",\n",
    "                            \"value\": \"47.3872\",\n",
    "                        },\n",
    "                        \"longitude\": {\n",
    "                            \"type\": \"str\",\n",
    "                            \"value\": \"12.8474\",\n",
    "                        },\n",
    "                        \"workHours\": {\n",
    "                            \"type\": \"dict\",\n",
    "                            \"value\": {\n",
    "                                \"Mon\": {\n",
    "                                    \"type\": \"str\",\n",
    "                                    \"value\": \"8:00-18:00\",\n",
    "                                },\n",
    "                                \"Tus\": {\n",
    "                                    \"type\": \"str\",\n",
    "                                    \"value\": \"8:00-18:00\",\n",
    "                                },\n",
    "                                \"Wed\": {\n",
    "                                    \"type\": \"str\",\n",
    "                                    \"value\": \"8:00-18:00\",\n",
    "                                },\n",
    "                                \"Thi\": {\n",
    "                                    \"type\": \"str\",\n",
    "                                    \"value\": \"8:00-18:00\",\n",
    "                                },\n",
    "                                \"Fri\": {\n",
    "                                    \"type\": \"str\",\n",
    "                                    \"value\": \"8:00-18:00\",\n",
    "                                },\n",
    "                                \"Sat\": {\n",
    "                                    \"type\": \"str\",\n",
    "                                    \"value\": \"8:00-18:00\",\n",
    "                                },\n",
    "                                \"Sun\": {\n",
    "                                    \"type\": \"str\",\n",
    "                                    \"value\": \"8:00-18:00\",\n",
    "                                },\n",
    "                            }\n",
    "                        } \n",
    "                    },\n",
    "                ]\n",
    "            },\n",
    "            \"userdata\": {\n",
    "                \"type\": \"str\",\n",
    "                \"value\": \"session-uuid\",\n",
    "            },\n",
    "            \"token\": {\n",
    "                \"type\": \"int\",\n",
    "                \"value\": 13726,\n",
    "            },\n",
    "            \"newuser\": {\n",
    "                \"type\": \"bool\",\n",
    "                \"value\": True,\n",
    "            },\n",
    "        }\n",
    "    }\n",
    "}"
   ]
  },
  {
   "cell_type": "code",
   "execution_count": 10,
   "metadata": {},
   "outputs": [
    {
     "data": {
      "text/plain": [
       "dict"
      ]
     },
     "execution_count": 10,
     "metadata": {},
     "output_type": "execute_result"
    }
   ],
   "source": [
    "type(data_sample['response'])"
   ]
  },
  {
   "cell_type": "code",
   "execution_count": 16,
   "metadata": {},
   "outputs": [],
   "source": [
    "def transform_dict(input_dict):\n",
    "    def recursive_transform(data):\n",
    "        if isinstance(data, dict):\n",
    "            transformed = {\"type\": \"dict\", \"value\": {}}\n",
    "            for key, value in data.items():\n",
    "                transformed[\"value\"][key] = recursive_transform(value)\n",
    "            return transformed\n",
    "        elif isinstance(data, list):\n",
    "            transformed = {\"type\": \"list\", \"value\": []}\n",
    "            print(data)\n",
    "            for item in data:\n",
    "                transformed[\"value\"].append(recursive_transform(item))\n",
    "            return transformed\n",
    "        else:\n",
    "            \n",
    "            return {\"type\": type(data).__name__, \"value\": data}\n",
    "\n",
    "    transformed_dict = recursive_transform(input_dict)\n",
    "    return transformed_dict"
   ]
  },
  {
   "cell_type": "code",
   "execution_count": 17,
   "metadata": {},
   "outputs": [
    {
     "name": "stdout",
     "output_type": "stream",
     "text": [
      "[{'addr': 'Moscow, Smolnaya, 1', 'phoneNumber': '(967) 2874621', 'latitude': '47.3872', 'longitude': '12.8474', 'workHours': {'Mon': '8:00-18:00', 'Tus': '8:00-18:00', 'Wed': '8:00-18:00', 'Thi': '8:00-18:00', 'Fri': '8:00-18:00', 'Sat': '8:00-18:00', 'Sun': '8:00-18:00'}}]\n",
      "{'type': 'dict', 'value': {'response': {'type': 'dict', 'value': {'stores': {'type': 'list', 'value': [{'type': 'dict', 'value': {'addr': {'type': 'str', 'value': 'Moscow, Smolnaya, 1'}, 'phoneNumber': {'type': 'str', 'value': '(967) 2874621'}, 'latitude': {'type': 'str', 'value': '47.3872'}, 'longitude': {'type': 'str', 'value': '12.8474'}, 'workHours': {'type': 'dict', 'value': {'Mon': {'type': 'str', 'value': '8:00-18:00'}, 'Tus': {'type': 'str', 'value': '8:00-18:00'}, 'Wed': {'type': 'str', 'value': '8:00-18:00'}, 'Thi': {'type': 'str', 'value': '8:00-18:00'}, 'Fri': {'type': 'str', 'value': '8:00-18:00'}, 'Sat': {'type': 'str', 'value': '8:00-18:00'}, 'Sun': {'type': 'str', 'value': '8:00-18:00'}}}}}]}, 'userdata': {'type': 'str', 'value': 'session-uuid'}, 'token': {'type': 'int', 'value': 13726}, 'newuser': {'type': 'bool', 'value': True}}}}}\n"
     ]
    }
   ],
   "source": [
    "transformed_result = transform_dict(data_sample)\n",
    "print(transformed_result)"
   ]
  }
 ],
 "metadata": {
  "kernelspec": {
   "display_name": "Python 3",
   "language": "python",
   "name": "python3"
  },
  "language_info": {
   "codemirror_mode": {
    "name": "ipython",
    "version": 3
   },
   "file_extension": ".py",
   "mimetype": "text/x-python",
   "name": "python",
   "nbconvert_exporter": "python",
   "pygments_lexer": "ipython3",
   "version": "3.10.12"
  },
  "orig_nbformat": 4
 },
 "nbformat": 4,
 "nbformat_minor": 2
}
