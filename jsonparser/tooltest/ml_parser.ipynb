{
 "cells": [
  {
   "cell_type": "code",
   "execution_count": 52,
   "metadata": {},
   "outputs": [],
   "source": [
    "import re\n",
    "import pickle\n",
    "import json\n",
    "import datetime"
   ]
  },
  {
   "cell_type": "code",
   "execution_count": 53,
   "metadata": {},
   "outputs": [],
   "source": [
    "def replace_punctuation_with_space(input_string):\n",
    "    return re.sub(r'[\\.\\!\\-\\_]', ' ', input_string)\n",
    "\n",
    "\n",
    "def split_string(input_string, chunk_size):\n",
    "    return [input_string[i:i+chunk_size] for i in range(0, len(input_string), chunk_size)]\n",
    "\n",
    "def clean_text(input_string):\n",
    "    no_symbols = replace_punctuation_with_space(input_string).lower().replace(\" \", \"\")\n",
    "    tokenized = split_string(no_symbols, 3)\n",
    "    return tokenized"
   ]
  },
  {
   "cell_type": "code",
   "execution_count": 54,
   "metadata": {},
   "outputs": [],
   "source": [
    "# Load the model and vectorizer\n",
    "with open('model_autoparse/model.pkl', 'rb') as model_file:\n",
    "    loaded_model = pickle.load(model_file)\n",
    "\n",
    "with open('model_autoparse/vectorizer.pkl', 'rb') as vectorizer_file:\n",
    "    loaded_vectorizer = pickle.load(vectorizer_file)\n",
    "\n",
    "with open('model_autoparse/label_encoder.pkl', 'rb') as label_encoder_file:\n",
    "    loaded_label_encoder = pickle.load(label_encoder_file)"
   ]
  },
  {
   "cell_type": "code",
   "execution_count": 55,
   "metadata": {},
   "outputs": [],
   "source": [
    "def predict(input_keyword):\n",
    "    word = loaded_vectorizer.transform([input_keyword])\n",
    "    prediction = loaded_model.predict(word)\n",
    "    return loaded_label_encoder.classes_[prediction[0]]"
   ]
  },
  {
   "cell_type": "code",
   "execution_count": 56,
   "metadata": {},
   "outputs": [
    {
     "data": {
      "text/plain": [
       "'opening_hours'"
      ]
     },
     "execution_count": 56,
     "metadata": {},
     "output_type": "execute_result"
    }
   ],
   "source": [
    "predict(\"Fri\")"
   ]
  },
  {
   "cell_type": "code",
   "execution_count": 57,
   "metadata": {},
   "outputs": [],
   "source": [
    "def transform_dict(input_dict):\n",
    "    def recursive_transform(data, key):\n",
    "        prediction = predict(key)\n",
    "        if isinstance(data, dict):\n",
    "            transformed = {\"data_type\": \"dict\", \"prediction\": prediction, \"value\": {}}\n",
    "            for sub_key, value in data.items():\n",
    "                transformed[\"value\"][sub_key] = recursive_transform(value, sub_key)\n",
    "            return transformed\n",
    "        elif isinstance(data, list):\n",
    "            transformed = {\"data_type\": \"list\", \"prediction\": prediction, \"value\": []}\n",
    "            for item in data:\n",
    "                transformed[\"value\"].append(recursive_transform(item, key))\n",
    "            return transformed\n",
    "        else:\n",
    "            return {\"data_type\": type(data).__name__, \"prediction\": prediction, \"value\": data}\n",
    "\n",
    "    transformed_dict = recursive_transform(input_dict, \"root\")\n",
    "    return transformed_dict"
   ]
  },
  {
   "cell_type": "code",
   "execution_count": 58,
   "metadata": {},
   "outputs": [],
   "source": [
    "data_sample = {\n",
    "    \"response\": {\n",
    "        \"stores\": [\n",
    "            {\n",
    "                \"addr\": \"Moscow, Smolnaya, 1\",\n",
    "                \"phoneNumber\": \"(967) 2874621\",\n",
    "                \"latitude\": \"47.3872\",\n",
    "                \"longitude\": \"12.8474\",\n",
    "                \"workHours\": {\n",
    "                    \"Mon\": \"8:00-18:00\",\n",
    "                    \"Tus\": \"8:00-18:00\",\n",
    "                    \"Wed\": \"8:00-18:00\",\n",
    "                    \"Thi\": \"8:00-18:00\",\n",
    "                    \"Fri\": \"8:00-18:00\",\n",
    "                    \"Sat\": \"8:00-18:00\",\n",
    "                    \"Sun\": \"8:00-18:00\",\n",
    "                } \n",
    "            },\n",
    "        ],\n",
    "        \"userdata\": \"session-uuid\",\n",
    "        \"token\": 13726,\n",
    "        \"newuser\": True\n",
    "    }\n",
    "}\n",
    "\n",
    "transformed_json = transform_dict(data_sample)\n",
    "\n",
    "filestamp = str(datetime.datetime.now().timestamp()).split(\".\")[0]\n",
    "\n",
    "with open(f\"transformed-{filestamp}.json\", 'w') as file:\n",
    "    file.writelines(json.dumps(transformed_json, indent=\"\\t\"))"
   ]
  },
  {
   "cell_type": "code",
   "execution_count": 59,
   "metadata": {},
   "outputs": [],
   "source": [
    "def json_transform(input_json):\n",
    "    transformed_json = transform_dict(input_json)\n",
    "\n",
    "    filestamp = str(datetime.datetime.now().timestamp()).split(\".\")[0]\n",
    "\n",
    "    with open(f\"transformed-{filestamp}.json\", 'w') as file:\n",
    "        file.writelines(json.dumps(transformed_json, indent=\"\\t\"))"
   ]
  },
  {
   "cell_type": "code",
   "execution_count": 79,
   "metadata": {},
   "outputs": [],
   "source": [
    "import requests"
   ]
  },
  {
   "cell_type": "code",
   "execution_count": 89,
   "metadata": {},
   "outputs": [],
   "source": [
    "# res_json = requests.get(\"https://stockist.co/api/v1/u15743/locations/all\").json()\n",
    "url = \"https://www.avia.ch/tankstellenfinder/jsonpassthru.php\"\n",
    "headers = {}\n",
    "res_json = requests.get(url, headers=headers).json()\n",
    "json_transform(res_json)"
   ]
  }
 ],
 "metadata": {
  "kernelspec": {
   "display_name": "Python 3",
   "language": "python",
   "name": "python3"
  },
  "language_info": {
   "codemirror_mode": {
    "name": "ipython",
    "version": 3
   },
   "file_extension": ".py",
   "mimetype": "text/x-python",
   "name": "python",
   "nbconvert_exporter": "python",
   "pygments_lexer": "ipython3",
   "version": "3.10.12"
  },
  "orig_nbformat": 4
 },
 "nbformat": 4,
 "nbformat_minor": 2
}
