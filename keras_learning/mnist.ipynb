{
 "cells": [
  {
   "cell_type": "code",
   "execution_count": 1,
   "metadata": {},
   "outputs": [
    {
     "name": "stderr",
     "output_type": "stream",
     "text": [
      "2023-10-25 15:51:19.030043: I tensorflow/core/platform/cpu_feature_guard.cc:193] This TensorFlow binary is optimized with oneAPI Deep Neural Network Library (oneDNN) to use the following CPU instructions in performance-critical operations:  AVX2 AVX512F AVX512_VNNI FMA\n",
      "To enable them in other operations, rebuild TensorFlow with the appropriate compiler flags.\n",
      "2023-10-25 15:51:19.217056: I tensorflow/core/util/port.cc:104] oneDNN custom operations are on. You may see slightly different numerical results due to floating-point round-off errors from different computation orders. To turn them off, set the environment variable `TF_ENABLE_ONEDNN_OPTS=0`.\n",
      "2023-10-25 15:51:19.246478: W tensorflow/compiler/xla/stream_executor/platform/default/dso_loader.cc:64] Could not load dynamic library 'libcudart.so.11.0'; dlerror: libcudart.so.11.0: cannot open shared object file: No such file or directory\n",
      "2023-10-25 15:51:19.246491: I tensorflow/compiler/xla/stream_executor/cuda/cudart_stub.cc:29] Ignore above cudart dlerror if you do not have a GPU set up on your machine.\n",
      "2023-10-25 15:51:20.028515: W tensorflow/compiler/xla/stream_executor/platform/default/dso_loader.cc:64] Could not load dynamic library 'libnvinfer.so.7'; dlerror: libnvinfer.so.7: cannot open shared object file: No such file or directory\n",
      "2023-10-25 15:51:20.028642: W tensorflow/compiler/xla/stream_executor/platform/default/dso_loader.cc:64] Could not load dynamic library 'libnvinfer_plugin.so.7'; dlerror: libnvinfer_plugin.so.7: cannot open shared object file: No such file or directory\n",
      "2023-10-25 15:51:20.028646: W tensorflow/compiler/tf2tensorrt/utils/py_utils.cc:38] TF-TRT Warning: Cannot dlopen some TensorRT libraries. If you would like to use Nvidia GPU with TensorRT, please make sure the missing libraries mentioned above are installed properly.\n"
     ]
    }
   ],
   "source": [
    "from keras.datasets import mnist\n",
    "from keras.utils import to_categorical\n",
    "import pandas as pd\n",
    "import matplotlib.pyplot as plt"
   ]
  },
  {
   "cell_type": "code",
   "execution_count": 2,
   "metadata": {},
   "outputs": [],
   "source": [
    "(X_train, y_train), (X_test, y_test) = mnist.load_data()"
   ]
  },
  {
   "cell_type": "markdown",
   "metadata": {},
   "source": [
    "##### Makin dataset smaller to learn how Neural Networks work:"
   ]
  },
  {
   "cell_type": "code",
   "execution_count": 3,
   "metadata": {},
   "outputs": [],
   "source": [
    "X_train = X_train[0:10000]\n",
    "y_train = y_train[0:10000]\n",
    "X_test = X_test[0:3000]\n",
    "y_test = y_test[0:3000]\n",
    "\n",
    "assert X_train.shape == (10000, 28, 28)\n",
    "assert y_train.shape == (10000,)\n",
    "assert X_test.shape == (3000, 28, 28)\n",
    "assert y_test.shape == (3000,)"
   ]
  },
  {
   "cell_type": "code",
   "execution_count": 4,
   "metadata": {},
   "outputs": [],
   "source": [
    "y_train = to_categorical(y_train)\n",
    "y_test = to_categorical(y_test)\n",
    "\n",
    "X_train = X_train / 255\n",
    "X_test = X_test / 255"
   ]
  },
  {
   "cell_type": "markdown",
   "metadata": {},
   "source": [
    "#### Getting started with basic Neural Network"
   ]
  },
  {
   "cell_type": "code",
   "execution_count": 5,
   "metadata": {},
   "outputs": [],
   "source": [
    "from keras.models import Sequential\n",
    "from keras.layers import Dense, Flatten\n",
    "from keras.optimizers import gradient_descent_v2\n",
    "from keras.losses import categorical_crossentropy\n",
    "from keras.metrics import accuracy"
   ]
  },
  {
   "cell_type": "code",
   "execution_count": 26,
   "metadata": {},
   "outputs": [
    {
     "name": "stdout",
     "output_type": "stream",
     "text": [
      "Model: \"sequential_5\"\n",
      "_________________________________________________________________\n",
      " Layer (type)                Output Shape              Param #   \n",
      "=================================================================\n",
      " flatten_5 (Flatten)         (None, 784)               0         \n",
      "                                                                 \n",
      " dense_8 (Dense)             (None, 128)               100480    \n",
      "                                                                 \n",
      " dense_9 (Dense)             (None, 10)                1290      \n",
      "                                                                 \n",
      "=================================================================\n",
      "Total params: 101,770\n",
      "Trainable params: 101,770\n",
      "Non-trainable params: 0\n",
      "_________________________________________________________________\n"
     ]
    }
   ],
   "source": [
    "model = Sequential()\n",
    "model.add(Flatten(input_shape=(28,28)))\n",
    "model.add(Dense(128, activation=\"relu\"))\n",
    "model.add(Dense(10, activation=\"softmax\"))\n",
    "\n",
    "optimizer = gradient_descent_v2.SGD(learning_rate=0.01)\n",
    "\n",
    "model.compile(optimizer=\"adam\", metrics=accuracy, loss=categorical_crossentropy)\n",
    "model.summary()"
   ]
  },
  {
   "cell_type": "code",
   "execution_count": 27,
   "metadata": {},
   "outputs": [
    {
     "name": "stdout",
     "output_type": "stream",
     "text": [
      "Epoch 1/15\n",
      "313/313 [==============================] - 1s 1ms/step - loss: 0.5290 - accuracy: 0.0000e+00 - val_loss: 0.4020 - val_accuracy: 0.0000e+00\n",
      "Epoch 2/15\n",
      "313/313 [==============================] - 0s 1ms/step - loss: 0.2454 - accuracy: 0.0000e+00 - val_loss: 0.3225 - val_accuracy: 0.0000e+00\n",
      "Epoch 3/15\n",
      "313/313 [==============================] - 0s 1ms/step - loss: 0.1806 - accuracy: 0.0000e+00 - val_loss: 0.2725 - val_accuracy: 0.0000e+00\n",
      "Epoch 4/15\n",
      "313/313 [==============================] - 0s 1ms/step - loss: 0.1363 - accuracy: 0.0000e+00 - val_loss: 0.2483 - val_accuracy: 0.0000e+00\n",
      "Epoch 5/15\n",
      "313/313 [==============================] - 0s 1ms/step - loss: 0.1066 - accuracy: 0.0000e+00 - val_loss: 0.2491 - val_accuracy: 0.0000e+00\n",
      "Epoch 6/15\n",
      "313/313 [==============================] - 0s 1ms/step - loss: 0.0839 - accuracy: 0.0000e+00 - val_loss: 0.2410 - val_accuracy: 0.0000e+00\n",
      "Epoch 7/15\n",
      "313/313 [==============================] - 0s 1ms/step - loss: 0.0675 - accuracy: 0.0000e+00 - val_loss: 0.2246 - val_accuracy: 0.0000e+00\n",
      "Epoch 8/15\n",
      "313/313 [==============================] - 0s 1ms/step - loss: 0.0530 - accuracy: 0.0000e+00 - val_loss: 0.2089 - val_accuracy: 0.0000e+00\n",
      "Epoch 9/15\n",
      "313/313 [==============================] - 0s 1ms/step - loss: 0.0403 - accuracy: 0.0000e+00 - val_loss: 0.2094 - val_accuracy: 0.0000e+00\n",
      "Epoch 10/15\n",
      "313/313 [==============================] - 0s 1ms/step - loss: 0.0335 - accuracy: 0.0000e+00 - val_loss: 0.2090 - val_accuracy: 0.0000e+00\n",
      "Epoch 11/15\n",
      "313/313 [==============================] - 0s 1ms/step - loss: 0.0252 - accuracy: 0.0000e+00 - val_loss: 0.2065 - val_accuracy: 0.0000e+00\n",
      "Epoch 12/15\n",
      "313/313 [==============================] - 0s 1ms/step - loss: 0.0203 - accuracy: 0.0000e+00 - val_loss: 0.2314 - val_accuracy: 0.0000e+00\n",
      "Epoch 13/15\n",
      "313/313 [==============================] - 0s 1ms/step - loss: 0.0160 - accuracy: 0.0000e+00 - val_loss: 0.2186 - val_accuracy: 0.0000e+00\n",
      "Epoch 14/15\n",
      "313/313 [==============================] - 0s 1ms/step - loss: 0.0117 - accuracy: 0.0000e+00 - val_loss: 0.2184 - val_accuracy: 0.0000e+00\n",
      "Epoch 15/15\n",
      "313/313 [==============================] - 0s 1ms/step - loss: 0.0104 - accuracy: 0.0000e+00 - val_loss: 0.2115 - val_accuracy: 0.0000e+00\n"
     ]
    },
    {
     "data": {
      "text/plain": [
       "<keras.callbacks.History at 0x7f94c83801f0>"
      ]
     },
     "execution_count": 27,
     "metadata": {},
     "output_type": "execute_result"
    }
   ],
   "source": [
    "model.fit(X_train, y_train, validation_data=(X_test, y_test), epochs=15)"
   ]
  },
  {
   "cell_type": "code",
   "execution_count": 28,
   "metadata": {},
   "outputs": [
    {
     "name": "stdout",
     "output_type": "stream",
     "text": [
      "Test loss: 0.21150150895118713\n",
      "Test accuracy: 0.0\n"
     ]
    }
   ],
   "source": [
    "score = model.evaluate(X_test, y_test, verbose=0)\n",
    "print(\"Test loss:\", score[0])\n",
    "print(\"Test accuracy:\", score[1])"
   ]
  },
  {
   "cell_type": "code",
   "execution_count": null,
   "metadata": {},
   "outputs": [],
   "source": [
    "predictions = model.predict(X_test)\n",
    "\n",
    "for index, pred in enumerate(predictions):\n",
    "    print(\"Predicted: \", pred.argmax(), f\"Actual: {y_test[index].argmax()}\")"
   ]
  },
  {
   "cell_type": "code",
   "execution_count": 30,
   "metadata": {},
   "outputs": [
    {
     "name": "stdout",
     "output_type": "stream",
     "text": [
      "1/1 [==============================] - 0s 31ms/step\n"
     ]
    },
    {
     "data": {
      "text/plain": [
       "array([[5.7294001e-09, 3.4726100e-10, 6.0009654e-07, 2.1803596e-04,\n",
       "        1.7371115e-11, 2.6680342e-09, 3.2215411e-14, 9.9978107e-01,\n",
       "        8.1543760e-08, 3.1445012e-07]], dtype=float32)"
      ]
     },
     "execution_count": 30,
     "metadata": {},
     "output_type": "execute_result"
    }
   ],
   "source": [
    "model.predict(X_test[0])"
   ]
  }
 ],
 "metadata": {
  "kernelspec": {
   "display_name": "Python 3",
   "language": "python",
   "name": "python3"
  },
  "language_info": {
   "codemirror_mode": {
    "name": "ipython",
    "version": 3
   },
   "file_extension": ".py",
   "mimetype": "text/x-python",
   "name": "python",
   "nbconvert_exporter": "python",
   "pygments_lexer": "ipython3",
   "version": "3.10.12"
  },
  "orig_nbformat": 4
 },
 "nbformat": 4,
 "nbformat_minor": 2
}
