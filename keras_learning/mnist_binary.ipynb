{
 "cells": [
  {
   "cell_type": "code",
   "execution_count": 20,
   "metadata": {},
   "outputs": [],
   "source": [
    "import datetime\n",
    "import os\n",
    "import numpy as np\n",
    "import keras\n",
    "\n",
    "from keras import Model\n",
    "from keras import Sequential\n",
    "from keras import activations\n",
    "from keras import datasets\n",
    "from keras import layers\n",
    "from keras import losses\n",
    "from keras import metrics\n",
    "from keras import optimizers\n",
    "from keras import preprocessing\n",
    "from keras import regularizers\n",
    "from keras import saving\n",
    "from keras import utils"
   ]
  },
  {
   "cell_type": "code",
   "execution_count": null,
   "metadata": {},
   "outputs": [],
   "source": [
    "dir(losses)"
   ]
  },
  {
   "cell_type": "code",
   "execution_count": null,
   "metadata": {},
   "outputs": [],
   "source": [
    "data = datasets.mnist.load_data()\n",
    "data"
   ]
  },
  {
   "cell_type": "code",
   "execution_count": 4,
   "metadata": {},
   "outputs": [
    {
     "data": {
      "text/plain": [
       "10000"
      ]
     },
     "execution_count": 4,
     "metadata": {},
     "output_type": "execute_result"
    }
   ],
   "source": [
    "test_x, test_y = data[1]\n",
    "train_x, train_y = data[0]\n",
    "len(test_x)"
   ]
  },
  {
   "cell_type": "code",
   "execution_count": 5,
   "metadata": {},
   "outputs": [],
   "source": [
    "test_mask = np.logical_or(test_y == 1, test_y == 0)\n",
    "\n",
    "test_zeros_and_ones_y = test_y[test_mask]\n",
    "test_zeros_and_ones_x = test_x[test_mask] / 255.0"
   ]
  },
  {
   "cell_type": "code",
   "execution_count": 6,
   "metadata": {},
   "outputs": [
    {
     "name": "stdout",
     "output_type": "stream",
     "text": [
      "2115\n",
      "2115\n"
     ]
    }
   ],
   "source": [
    "print(len(test_zeros_and_ones_x))\n",
    "print(len(test_zeros_and_ones_y))"
   ]
  },
  {
   "cell_type": "code",
   "execution_count": 7,
   "metadata": {},
   "outputs": [],
   "source": [
    "train_mask = np.logical_or(train_y == 1, train_y == 0)\n",
    "\n",
    "train_zeros_and_ones_y = train_y[train_mask]\n",
    "train_zeros_and_ones_x = train_x[train_mask] / 255.0"
   ]
  },
  {
   "cell_type": "code",
   "execution_count": 8,
   "metadata": {},
   "outputs": [
    {
     "name": "stdout",
     "output_type": "stream",
     "text": [
      "12665\n",
      "12665\n"
     ]
    }
   ],
   "source": [
    "print(len(train_zeros_and_ones_y))\n",
    "print(len(train_zeros_and_ones_x))"
   ]
  },
  {
   "cell_type": "code",
   "execution_count": null,
   "metadata": {},
   "outputs": [],
   "source": [
    "pict = 5\n",
    "print(train_zeros_and_ones_y[pict])\n",
    "train_zeros_and_ones_x[pict]"
   ]
  },
  {
   "cell_type": "code",
   "execution_count": 10,
   "metadata": {},
   "outputs": [
    {
     "name": "stdout",
     "output_type": "stream",
     "text": [
      "0 0.46766679826292934\n",
      "1 0.5323332017370707\n"
     ]
    }
   ],
   "source": [
    "print(\"0\", len(train_zeros_and_ones_y[train_zeros_and_ones_y == 0]) / len(train_zeros_and_ones_y))\n",
    "print(\"1\", len(train_zeros_and_ones_y[train_zeros_and_ones_y == 1]) / len(train_zeros_and_ones_y))"
   ]
  },
  {
   "cell_type": "code",
   "execution_count": 11,
   "metadata": {},
   "outputs": [],
   "source": [
    "from keras.layers import Dense, Flatten"
   ]
  },
  {
   "cell_type": "code",
   "execution_count": 12,
   "metadata": {},
   "outputs": [],
   "source": [
    "model = Sequential()\n",
    "\n",
    "model.add(Flatten(input_shape=(28,28)))\n",
    "# model.add(Dense(units=3, activation=\"relu\"))\n",
    "model.add(Dense(units=1, activation='sigmoid'))\n",
    "\n",
    "model.compile(\n",
    "    optimizer='sgd',\n",
    "    loss='binary_crossentropy',\n",
    "    metrics=['accuracy'])"
   ]
  },
  {
   "cell_type": "code",
   "execution_count": 13,
   "metadata": {},
   "outputs": [
    {
     "name": "stdout",
     "output_type": "stream",
     "text": [
      "Model: \"sequential\"\n",
      "_________________________________________________________________\n",
      " Layer (type)                Output Shape              Param #   \n",
      "=================================================================\n",
      " flatten (Flatten)           (None, 784)               0         \n",
      "                                                                 \n",
      " dense (Dense)               (None, 1)                 785       \n",
      "                                                                 \n",
      "=================================================================\n",
      "Total params: 785 (3.07 KB)\n",
      "Trainable params: 785 (3.07 KB)\n",
      "Non-trainable params: 0 (0.00 Byte)\n",
      "_________________________________________________________________\n"
     ]
    }
   ],
   "source": [
    "model.summary()"
   ]
  },
  {
   "cell_type": "code",
   "execution_count": 23,
   "metadata": {},
   "outputs": [],
   "source": [
    "from keras.callbacks import TensorBoard\n",
    "log_dir = os.path.join(os.getcwd(), \"logs\", datetime.datetime.now().strftime(\"%Y%m%d-%H%M%S\"))\n",
    "\n",
    "tensorboard_callback = TensorBoard(log_dir=log_dir, histogram_freq=1)"
   ]
  },
  {
   "cell_type": "code",
   "execution_count": 24,
   "metadata": {},
   "outputs": [
    {
     "name": "stdout",
     "output_type": "stream",
     "text": [
      "Epoch 1/5\n",
      "396/396 [==============================] - 0s 892us/step - loss: 0.0083 - accuracy: 0.9983 - val_loss: 0.0049 - val_accuracy: 0.9991\n",
      "Epoch 2/5\n",
      "396/396 [==============================] - 0s 802us/step - loss: 0.0080 - accuracy: 0.9982 - val_loss: 0.0047 - val_accuracy: 0.9991\n",
      "Epoch 3/5\n",
      "396/396 [==============================] - 0s 807us/step - loss: 0.0078 - accuracy: 0.9983 - val_loss: 0.0046 - val_accuracy: 0.9991\n",
      "Epoch 4/5\n",
      "396/396 [==============================] - 0s 805us/step - loss: 0.0076 - accuracy: 0.9983 - val_loss: 0.0044 - val_accuracy: 0.9991\n",
      "Epoch 5/5\n",
      "396/396 [==============================] - 0s 798us/step - loss: 0.0074 - accuracy: 0.9983 - val_loss: 0.0043 - val_accuracy: 0.9991\n"
     ]
    },
    {
     "data": {
      "text/plain": [
       "<keras.src.callbacks.History at 0x7cd058113700>"
      ]
     },
     "execution_count": 24,
     "metadata": {},
     "output_type": "execute_result"
    }
   ],
   "source": [
    "model.fit(\n",
    "    x=train_zeros_and_ones_x,\n",
    "    y=train_zeros_and_ones_y,\n",
    "    epochs=5,\n",
    "    validation_data=(test_zeros_and_ones_x, test_zeros_and_ones_y),\n",
    "    callbacks=[tensorboard_callback])"
   ]
  },
  {
   "cell_type": "code",
   "execution_count": 25,
   "metadata": {},
   "outputs": [
    {
     "name": "stdout",
     "output_type": "stream",
     "text": [
      "67/67 [==============================] - 0s 599us/step - loss: 0.0043 - accuracy: 0.9991\n",
      "Test loss: 0.004320452455431223\n",
      "Accuracy: 0.9990543723106384\n"
     ]
    }
   ],
   "source": [
    "test_loss, accuracy = model.evaluate(test_zeros_and_ones_x, test_zeros_and_ones_y)\n",
    "\n",
    "print(f\"Test loss: {test_loss}\")\n",
    "print(f\"Accuracy: {accuracy}\")"
   ]
  },
  {
   "cell_type": "code",
   "execution_count": 26,
   "metadata": {},
   "outputs": [
    {
     "name": "stdout",
     "output_type": "stream",
     "text": [
      "True:  1\n",
      "1/1 [==============================] - 0s 11ms/step\n",
      "Prediction:  1\n"
     ]
    }
   ],
   "source": [
    "img = np.expand_dims(test_zeros_and_ones_x[0], axis=0)\n",
    "print(\"True: \", test_zeros_and_ones_y[0])\n",
    "print(\"Prediction: \", round(model.predict(img)[0][0]))"
   ]
  },
  {
   "cell_type": "code",
   "execution_count": 31,
   "metadata": {},
   "outputs": [
    {
     "name": "stdout",
     "output_type": "stream",
     "text": [
      "INFO:tensorflow:Assets written to: binary_digit_classification/assets\n"
     ]
    },
    {
     "name": "stderr",
     "output_type": "stream",
     "text": [
      "INFO:tensorflow:Assets written to: binary_digit_classification/assets\n"
     ]
    }
   ],
   "source": [
    "model.save(\"binary_digit_classification\")"
   ]
  }
 ],
 "metadata": {
  "kernelspec": {
   "display_name": "Python 3",
   "language": "python",
   "name": "python3"
  },
  "language_info": {
   "codemirror_mode": {
    "name": "ipython",
    "version": 3
   },
   "file_extension": ".py",
   "mimetype": "text/x-python",
   "name": "python",
   "nbconvert_exporter": "python",
   "pygments_lexer": "ipython3",
   "version": "3.10.12"
  }
 },
 "nbformat": 4,
 "nbformat_minor": 2
}
