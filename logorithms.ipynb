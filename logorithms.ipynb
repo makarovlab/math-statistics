{
 "cells": [
  {
   "attachments": {},
   "cell_type": "markdown",
   "metadata": {},
   "source": [
    "#### Logorithms\n",
    "\n",
    "The concept of logarithms dates back to the 17th century and was developed by the Scottish mathematician John Napier and later refined by the English mathematician Henry Briggs. The invention of logarithms was a significant breakthrough in the field of mathematics, as it simplified complex calculations and provided a powerful tool for computations.\n",
    "\n",
    "John Napier, in 1614, published a book titled \"Mirifici Logarithmorum Canonis Descriptio\" (Description of the Wonderful Rule of Logarithms) in which he introduced the concept of logarithms. Napier's motivation was to simplify the process of multiplication and division, which were tedious and time-consuming tasks during that era.\n",
    "\n",
    "Napier's logarithms were based on ratios and involved using trigonometric functions. However, they were not the logarithms we use today. Henry Briggs, a professor at Oxford University, recognized the potential of logarithms and worked on refining them. In 1617, Briggs published a table of logarithms called \"Arithmetica Logarithmica,\" which provided logarithms to the base 10 of numbers from 1 to 20,000.\n",
    "\n",
    "Briggs also introduced the concept of logarithms with a base of 10, which is the system commonly used today. This base was chosen because it simplified calculations in the decimal number system. The use of base 10 logarithms became widespread, and logarithm tables were extensively used by scientists, astronomers, engineers, and mathematicians for several centuries.\n",
    "\n",
    "The development of logarithms revolutionized scientific and mathematical calculations, enabling complex computations to be replaced by simpler addition and subtraction operations. Logarithms found applications in various fields, including navigation, astronomy, physics, engineering, and more.\n",
    "\n",
    "With the advent of calculators and computers, the need for logarithm tables decreased. However, logarithms continue to be a fundamental concept in mathematics and are still used today in fields such as signal processing, data analysis, exponential growth modeling, and algorithm analysis."
   ]
  },
  {
   "attachments": {},
   "cell_type": "markdown",
   "metadata": {},
   "source": [
    "##### Basic examples\n",
    "\n",
    "Logorithm is operation opposite to power. For example 2 power 4 equals 16: $2^4 = 16$. But there are situations when we need to find what is power of 2 to have answer 16. This question can be asked mathematically: $\\log_2 16 = ?$\n",
    "\n",
    "So we have tow different questions:\n",
    "1. what is the result of 2 power 4: $2^4 = ?$\n",
    "2. what is the power of two if results is 16: $\\log_2 16 = ?$"
   ]
  },
  {
   "attachments": {},
   "cell_type": "markdown",
   "metadata": {},
   "source": [
    "#### Logorithm purpose in calculations\n",
    "\n",
    "For instance we have task to multiply two numbers $1024*32$ without usage of calculator.\n",
    "\n",
    "Manual calculation can take some time. And imagine if we have larger numbers. Time of calculation increases if we take bigger and bigger numbers. That is where logorithms can help to simplify process. Mathematicians created tables of power:\n",
    "\n",
    "| 2 | 3 | 4 | 5 | 6 | 7 | 8 | 9 | 10 | 11 | 12 | 13 | 14 | 15 |\n",
    "| - | - | - | - | - | - | - | - | - | - | - | - | - | - |\n",
    "| 4 | 8 | 16 | 32 | 64 | 128 | 256 | 512 | 1024 | 2048 | 4096 | 8192 | 16384 | 32768 |\n",
    "\n",
    "$1024 * 32 = 2^{log_2 1024} + 2^{log_2 32} = 2^{10 + 5} = 2^{15} = 32768$"
   ]
  },
  {
   "attachments": {},
   "cell_type": "markdown",
   "metadata": {},
   "source": [
    "##### Logorithm properties\n",
    "\n",
    "- $\\log_a 1=0$\n",
    "\n",
    "- $\\log_a a = 1$\n",
    "\n",
    "- $\\log_a \\frac{1}{a} = -1$\n",
    "\n",
    "- $\\log_{a^k} a = \\frac{1}{k}$\n",
    "\n",
    "- $\\log_{a^k} b = \\frac{1}{k} * \\log_a b$\n",
    "\n",
    "- $\\log_a a^m = m$\n",
    "\n",
    "- $\\log_{a^k} a^m = \\frac{m}{k}$\n",
    "\n",
    "- $\\log_a (bc) = \\log_a b + \\log_a c$\n",
    "\n",
    "- $\\log_a\\left(\\frac{b}{c}\\right) = \\log_a b - \\log_a b$\n",
    "\n",
    "- $\\log_a b^c = c * \\log_a b$\n",
    "\n",
    "- $\\log_{a^k} b^m = \\frac{m}{k} \\log_a b$\n",
    "\n",
    "- $\\log_a b = \\frac{\\log_c b}{\\log_c a}$\n",
    "\n",
    "- $\\log_a b = \\frac{1}{\\log_b a}$\n",
    "\n",
    "- $\\log_a b * \\log_c d = \\log_c b * \\log_a d$\n",
    "\n",
    "- $a^{\\log_c b} = b^{\\log_c a}$\n"
   ]
  },
  {
   "attachments": {},
   "cell_type": "markdown",
   "metadata": {},
   "source": [
    "#### Plot logorithm functions"
   ]
  },
  {
   "cell_type": "code",
   "execution_count": 25,
   "metadata": {},
   "outputs": [],
   "source": [
    "import matplotlib.pyplot as plt\n",
    "import numpy as np"
   ]
  },
  {
   "cell_type": "code",
   "execution_count": 27,
   "metadata": {},
   "outputs": [
    {
     "data": {
      "text/plain": [
       "[<matplotlib.lines.Line2D at 0x7f408ce0a170>]"
      ]
     },
     "execution_count": 27,
     "metadata": {},
     "output_type": "execute_result"
    },
    {
     "data": {
      "image/png": "[encoded data removed]",
      "text/plain": [
       "<Figure size 640x480 with 1 Axes>"
      ]
     },
     "metadata": {},
     "output_type": "display_data"
    }
   ],
   "source": [
    "X1 = np.arange(1, 200, 2)\n",
    "y1 = np.log(X1)\n",
    "\n",
    "X2 = np.arange(1, 200, 2)\n",
    "y2 = np.log10(X2)\n",
    "\n",
    "plt.plot(X1, y1)\n",
    "plt.plot(X2, y2)"
   ]
  }
 ],
 "metadata": {
  "kernelspec": {
   "display_name": "Python 3",
   "language": "python",
   "name": "python3"
  },
  "language_info": {
   "codemirror_mode": {
    "name": "ipython",
    "version": 3
   },
   "file_extension": ".py",
   "mimetype": "text/x-python",
   "name": "python",
   "nbconvert_exporter": "python",
   "pygments_lexer": "ipython3",
   "version": "3.10.12"
  },
  "orig_nbformat": 4
 },
 "nbformat": 4,
 "nbformat_minor": 2
}
