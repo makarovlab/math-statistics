{
 "cells": [
  {
   "attachments": {},
   "cell_type": "markdown",
   "metadata": {},
   "source": [
    "#### Logorithms\n",
    "\n",
    "The concept of logarithms dates back to the 17th century and was developed by the Scottish mathematician John Napier and later refined by the English mathematician Henry Briggs. The invention of logarithms was a significant breakthrough in the field of mathematics, as it simplified complex calculations and provided a powerful tool for computations.\n",
    "\n",
    "John Napier, in 1614, published a book titled \"Mirifici Logarithmorum Canonis Descriptio\" (Description of the Wonderful Rule of Logarithms) in which he introduced the concept of logarithms. Napier's motivation was to simplify the process of multiplication and division, which were tedious and time-consuming tasks during that era.\n",
    "\n",
    "Napier's logarithms were based on ratios and involved using trigonometric functions. However, they were not the logarithms we use today. Henry Briggs, a professor at Oxford University, recognized the potential of logarithms and worked on refining them. In 1617, Briggs published a table of logarithms called \"Arithmetica Logarithmica,\" which provided logarithms to the base 10 of numbers from 1 to 20,000.\n",
    "\n",
    "Briggs also introduced the concept of logarithms with a base of 10, which is the system commonly used today. This base was chosen because it simplified calculations in the decimal number system. The use of base 10 logarithms became widespread, and logarithm tables were extensively used by scientists, astronomers, engineers, and mathematicians for several centuries.\n",
    "\n",
    "The development of logarithms revolutionized scientific and mathematical calculations, enabling complex computations to be replaced by simpler addition and subtraction operations. Logarithms found applications in various fields, including navigation, astronomy, physics, engineering, and more.\n",
    "\n",
    "With the advent of calculators and computers, the need for logarithm tables decreased. However, logarithms continue to be a fundamental concept in mathematics and are still used today in fields such as signal processing, data analysis, exponential growth modeling, and algorithm analysis."
   ]
  },
  {
   "attachments": {},
   "cell_type": "markdown",
   "metadata": {},
   "source": [
    "##### Basic examples\n",
    "\n",
    "Logorithm is operation opposite to power. For example 2 power 4 equals 16: $2^4 = 16$. But there are situations when we need to find what is power of 2 to have answer 16. This question can be asked mathematically: $\\log_2 16 = ?$\n",
    "\n",
    "So we have tow different questions:\n",
    "1. what is the result of 2 power 4: $2^4 = ?$\n",
    "2. what is the power of two if results is 16: $\\log_2 16 = ?$"
   ]
  },
  {
   "attachments": {},
   "cell_type": "markdown",
   "metadata": {},
   "source": [
    "#### Logorithm purpose in calculations\n",
    "\n",
    "For instance we have task to multiply two numbers $1024*32$ without usage of calculator.\n",
    "\n",
    "Manual calculation can take some time. And imagine if we have larger numbers. Time of calculation increases if we take bigger and bigger numbers. That is where logorithms can help to simplify process. Mathematicians created tables of power:\n",
    "\n",
    "| 2 | 3 | 4 | 5 | 6 | 7 | 8 | 9 | 10 | 11 | 12 | 13 | 14 | 15 |\n",
    "| - | - | - | - | - | - | - | - | - | - | - | - | - | - |\n",
    "| 4 | 8 | 16 | 32 | 64 | 128 | 256 | 512 | 1024 | 2048 | 4096 | 8192 | 16384 | 32768 |\n",
    "\n",
    "$1024 * 32 = 2^{log_2 1024} + 2^{log_2 32} = 2^{10 + 5} = 2^{15} = 32768$"
   ]
  }
 ],
 "metadata": {
  "language_info": {
   "name": "python"
  },
  "orig_nbformat": 4
 },
 "nbformat": 4,
 "nbformat_minor": 2
}
