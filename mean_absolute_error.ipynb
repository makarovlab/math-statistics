{
 "cells": [
  {
   "attachments": {},
   "cell_type": "markdown",
   "metadata": {},
   "source": [
    "#### Mean Absolute Error (MAE)\n",
    "\n",
    "$MAE = \\frac{1}{n}\\sum_{i=0}^n|\\text{\\^{Y}}_i - Y_i|$\n",
    "\n",
    "$\\text{\\^{Y}}_i$ - true value\n",
    "\n",
    "$Y_i$ - predicted value\n",
    "\n",
    "$\\text{\\^{Y}}_i - Y_i$ - difference between predicted and true values (error).\n",
    "\n",
    "Hint: good result when the error value tends to zero.\n",
    "\n",
    "Problem: there is no right limit for error. For different datasets error can be 11, 123, 1439 and it's not clear\n",
    "is it small error or big. Dataset can contain only big numbers and error 1439 will look like no so big. But opposite situation also can appear when dataset has small numbers and 11 will be huge error.\n",
    "\n",
    "Solution: $R^2$ metric."
   ]
  }
 ],
 "metadata": {
  "language_info": {
   "name": "python"
  },
  "orig_nbformat": 4
 },
 "nbformat": 4,
 "nbformat_minor": 2
}
