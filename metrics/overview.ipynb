{
 "cells": [
  {
   "cell_type": "markdown",
   "metadata": {},
   "source": [
    "[Original article](https://towardsdatascience.com/20-popular-machine-learning-metrics-part-1-classification-regression-evaluation-metrics-1ca3e282a2ce)\n",
    "\n",
    "- Classification Metrics (accuracy, precision, recall, F1-score, ROC, AUC, …)\n",
    "- Regression Metrics (MSE, MAE)\n",
    "- Ranking Metrics (MRR, DCG, NDCG)\n",
    "- Statistical Metrics (Correlation)\n",
    "- Computer Vision Metrics (PSNR, SSIM, IoU)\n",
    "- NLP Metrics (Perplexity, BLEU score)\n",
    "- Deep Learning Related Metrics (Inception score, Frechet Inception distance)"
   ]
  }
 ],
 "metadata": {
  "language_info": {
   "name": "python"
  },
  "orig_nbformat": 4
 },
 "nbformat": 4,
 "nbformat_minor": 2
}
