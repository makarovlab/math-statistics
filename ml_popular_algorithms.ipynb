{
 "cells": [
  {
   "attachments": {},
   "cell_type": "markdown",
   "metadata": {},
   "source": [
    "#### Just notes about popular ML algorithms\n",
    "\n",
    "There are many popular machine learning algorithms, and the choice of algorithm often depends on the specific problem you are trying to solve. However, here are some of the most widely used and popular machine learning algorithms:\n",
    "\n",
    "1. Linear Regression\n",
    "2. Logistic Regression\n",
    "3. Decision Trees\n",
    "4. Random Forests\n",
    "5. Support Vector Machines (SVM)\n",
    "6. K-Nearest Neighbors (KNN)\n",
    "7. Naive Bayes\n",
    "8. Neural Networks (Multi-layer Perceptron, Convolutional Neural Networks, Recurrent Neural Networks)\n",
    "9. Gradient Boosting Machines (GBM)\n",
    "10. Principal Component Analysis (PCA)\n",
    "11. K-Means Clustering\n",
    "12. Hierarchical Clustering\n",
    "13. Association Rule Mining (Apriori Algorithm)\n",
    "14. Collaborative Filtering (Matrix Factorization)\n",
    "15. Reinforcement Learning (Q-Learning, Deep Q-Networks)\n",
    "\n",
    "These are just a few examples, and there are many more machine learning algorithms and techniques available depending on your problem and data."
   ]
  },
  {
   "attachments": {},
   "cell_type": "markdown",
   "metadata": {},
   "source": [
    "##### 1. Linear regression\n",
    "Formula: $\\displaystyle y=\\beta _{0}+\\beta _{1}x_{1}+\\cdots +\\beta _{p}x_{p}+\\varepsilon$"
   ]
  },
  {
   "attachments": {},
   "cell_type": "markdown",
   "metadata": {},
   "source": [
    "##### 2. Logistic regression\n",
    "\n",
    "Formula: $\\displaystyle p(x)={\\frac {1}{1+e^{-(x-\\mu )/s}}}$,\n",
    "\n",
    "where μ is a location parameter the midpoint of the curve, where $\\displaystyle p(\\mu )=1/2$ and s is a scale parameter. "
   ]
  }
 ],
 "metadata": {
  "language_info": {
   "name": "python"
  },
  "orig_nbformat": 4
 },
 "nbformat": 4,
 "nbformat_minor": 2
}
