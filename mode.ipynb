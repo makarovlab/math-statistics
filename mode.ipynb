{
 "cells": [
  {
   "cell_type": "code",
   "execution_count": 65,
   "metadata": {},
   "outputs": [],
   "source": [
    "import matplotlib.pyplot as plt"
   ]
  },
  {
   "cell_type": "code",
   "execution_count": 66,
   "metadata": {},
   "outputs": [],
   "source": [
    "def get_mode(items: list):\n",
    "    count_values = {}\n",
    "\n",
    "    for item in items:\n",
    "        value: str = str(item)\n",
    "        \n",
    "        if value in count_values:\n",
    "            count_values[value] += 1\n",
    "        else:\n",
    "            count_values[value] = 1\n",
    "    \n",
    "    max_count = max(count_values.values())\n",
    "    mode = []\n",
    "    \n",
    "    for key, value in count_values.items():\n",
    "        if value == max_count:\n",
    "            mode.append(key)\n",
    "\n",
    "    return {\n",
    "        'mode': mode, \n",
    "        'count_values': count_values\n",
    "        }\n"
   ]
  },
  {
   "cell_type": "code",
   "execution_count": 67,
   "metadata": {},
   "outputs": [
    {
     "data": {
      "text/plain": [
       "{'mode': ['apple', 'orange'],\n",
       " 'count_values': {'apple': 3, 'orange': 3, 'banana': 1}}"
      ]
     },
     "execution_count": 67,
     "metadata": {},
     "output_type": "execute_result"
    }
   ],
   "source": [
    "x = ['apple', 'apple', 'orange', 'orange', 'banana', 'orange', 'apple']\n",
    "get_mode(x)"
   ]
  },
  {
   "cell_type": "code",
   "execution_count": 68,
   "metadata": {},
   "outputs": [
    {
     "data": {
      "text/plain": [
       "{'apple': 3, 'orange': 3, 'banana': 1}"
      ]
     },
     "execution_count": 68,
     "metadata": {},
     "output_type": "execute_result"
    }
   ],
   "source": [
    "mode_attrs = get_mode(x)\n",
    "mode, count_values = mode_attrs['mode'], mode_attrs['count_values']\n",
    "\n",
    "count_values"
   ]
  },
  {
   "cell_type": "code",
   "execution_count": 69,
   "metadata": {},
   "outputs": [
    {
     "data": {
      "text/plain": [
       "<BarContainer object of 3 artists>"
      ]
     },
     "execution_count": 69,
     "metadata": {},
     "output_type": "execute_result"
    },
    {
     "data": {
      "image/png": "[encoded data removed]",
      "text/plain": [
       "<Figure size 640x480 with 1 Axes>"
      ]
     },
     "metadata": {},
     "output_type": "display_data"
    }
   ],
   "source": [
    "x, y = zip(*count_values.items())\n",
    "plt.barh(x, y)"
   ]
  }
 ],
 "metadata": {
  "kernelspec": {
   "display_name": "Python 3",
   "language": "python",
   "name": "python3"
  },
  "language_info": {
   "codemirror_mode": {
    "name": "ipython",
    "version": 3
   },
   "file_extension": ".py",
   "mimetype": "text/x-python",
   "name": "python",
   "nbconvert_exporter": "python",
   "pygments_lexer": "ipython3",
   "version": "3.10.6"
  },
  "orig_nbformat": 4
 },
 "nbformat": 4,
 "nbformat_minor": 2
}
