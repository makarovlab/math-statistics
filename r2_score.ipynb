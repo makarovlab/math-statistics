{
 "cells": [
  {
   "attachments": {},
   "cell_type": "markdown",
   "metadata": {},
   "source": [
    "#### $R^2$ metric"
   ]
  },
  {
   "attachments": {},
   "cell_type": "markdown",
   "metadata": {},
   "source": [
    "$R^2 = 1 - \\frac{MSE}{D}$\n",
    "\n",
    "where:\n",
    "\n",
    "MSE (mean square error): $\\frac{1}{n}\\sum_{i=0}^n(\\text{\\^{Y}}_i - Y_i)^2$\n",
    "\n",
    "D (dispersion): $\\frac{1}{n}\\sum_{i=0}^n(y - \\overline{y})^2$\n",
    "\n",
    "Why to use?\n",
    "$R^2$ tends to be equal to 1. It has left and right limit from 0 to 1 what makes it easier to understand how good model is."
   ]
  }
 ],
 "metadata": {
  "language_info": {
   "name": "python"
  },
  "orig_nbformat": 4
 },
 "nbformat": 4,
 "nbformat_minor": 2
}
