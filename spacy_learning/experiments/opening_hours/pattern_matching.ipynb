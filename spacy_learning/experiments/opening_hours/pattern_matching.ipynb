{
 "cells": [
  {
   "cell_type": "code",
   "execution_count": 76,
   "metadata": {},
   "outputs": [],
   "source": [
    "import spacy\n",
    "from spacy.matcher import Matcher"
   ]
  },
  {
   "cell_type": "code",
   "execution_count": 79,
   "metadata": {},
   "outputs": [],
   "source": [
    "nlp = spacy.load(\"en_core_web_md\")"
   ]
  },
  {
   "cell_type": "code",
   "execution_count": 173,
   "metadata": {},
   "outputs": [],
   "source": [
    "matcher = Matcher(nlp.vocab)\n",
    "\n",
    "days_of_week_pattern = [\n",
    "    {\n",
    "        \"POS\": \"PROPN\", \n",
    "        \"LENGTH\": {\"<=\": 9},\n",
    "        \"LOWER\": {\n",
    "            \"IN\": [\n",
    "                \"mon\", \"tue\", \"wed\", \"thu\", \"fri\", \"sat\", \"sun\",\n",
    "                \"mn\", \"tu\", \"we\", \"th\", \"fr\", \"sa\", \"su\",\n",
    "                \"monday\", \"tuesday\", \"wednesday\", \"thursday\", \"friday\", \"saturday\", \"sunday\",\n",
    "            ]\n",
    "        }\n",
    "    }\n",
    "]\n",
    "\n",
    "time_pattern = [\n",
    "    {\"ENT_TYPE\": \"TIME\"},\n",
    "    # {\"ORTH\": \":\"},\n",
    "    # {\"LIKE_NUM\": True},\n",
    "    # {\"LOWER\": {\"IN\": [\"am\", \"pm\", \"a.m.\", \"p.m.\"]}, \"OP\": \"?\"}\n",
    "]\n",
    "\n",
    "matcher.add(\"DaysOfWeekPattern\", [days_of_week_pattern])\n",
    "# matcher.add(\"TimePattern\", [time_pattern])"
   ]
  },
  {
   "cell_type": "code",
   "execution_count": 174,
   "metadata": {},
   "outputs": [
    {
     "name": "stdout",
     "output_type": "stream",
     "text": [
      "Mn\n",
      "Fr\n",
      "Su\n"
     ]
    }
   ],
   "source": [
    "oh_example = \"Mn-Fr 8:00 - 10:00, Su off\"\n",
    "\n",
    "doc = nlp(oh_example)\n",
    "\n",
    "for match_id, start, end in matcher(doc):\n",
    "    print(doc[start:end])"
   ]
  },
  {
   "cell_type": "code",
   "execution_count": 172,
   "metadata": {},
   "outputs": [
    {
     "name": "stdout",
     "output_type": "stream",
     "text": [
      "TOKENS \n",
      "\n",
      "Mn PROPN\n",
      "- PUNCT\n",
      "Fr PROPN\n",
      "8:00 NUM\n",
      "- SYM\n",
      "10:00 NUM\n",
      ", PUNCT\n",
      "Su PROPN\n",
      "off ADV\n",
      "\n",
      "\n",
      "ENTS \n",
      "\n",
      "Mn-Fr 8:00 - 10:00 PERSON\n",
      "Su PERSON\n",
      "DEPS \n",
      "\n"
     ]
    }
   ],
   "source": [
    "print(\"TOKENS\", \"\\n\")\n",
    "for token in doc:\n",
    "    print(token.text, token.pos_)\n",
    "\n",
    "print(\"\\n\")\n",
    "\n",
    "print(\"ENTS\", \"\\n\")\n",
    "for ent in doc.ents:\n",
    "    print(ent.text, ent.label_)\n",
    "\n",
    "\n",
    "print(\"DEPS\", \"\\n\")\n",
    "# for token in doc:\n",
    "#     print(token.text, token.dep_)"
   ]
  },
  {
   "cell_type": "code",
   "execution_count": null,
   "metadata": {},
   "outputs": [],
   "source": []
  }
 ],
 "metadata": {
  "kernelspec": {
   "display_name": "Python 3",
   "language": "python",
   "name": "python3"
  },
  "language_info": {
   "codemirror_mode": {
    "name": "ipython",
    "version": 3
   },
   "file_extension": ".py",
   "mimetype": "text/x-python",
   "name": "python",
   "nbconvert_exporter": "python",
   "pygments_lexer": "ipython3",
   "version": "3.10.12"
  },
  "orig_nbformat": 4
 },
 "nbformat": 4,
 "nbformat_minor": 2
}
