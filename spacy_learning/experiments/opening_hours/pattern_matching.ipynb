{
 "cells": [
  {
   "cell_type": "code",
   "execution_count": 2,
   "metadata": {},
   "outputs": [],
   "source": [
    "import spacy\n",
    "from spacy.matcher import Matcher"
   ]
  },
  {
   "cell_type": "code",
   "execution_count": 3,
   "metadata": {},
   "outputs": [],
   "source": [
    "nlp = spacy.load(\"en_core_web_md\")"
   ]
  },
  {
   "cell_type": "code",
   "execution_count": 19,
   "metadata": {},
   "outputs": [],
   "source": [
    "matcher = Matcher(nlp.vocab)\n",
    "\n",
    "days_of_week_pattern = [\n",
    "    {\n",
    "        \"POS\": \"PROPN\", \n",
    "        \"LENGTH\": {\"<=\": 9},\n",
    "        \"LOWER\": {\n",
    "            \"IN\": [\n",
    "                \"mon\", \"tue\", \"wed\", \"thu\", \"fri\", \"sat\", \"sun\",\n",
    "                \"mn\", \"tu\", \"we\", \"th\", \"fr\", \"sa\", \"su\",\n",
    "                \"monday\", \"tuesday\", \"wednesday\", \"thursday\", \"friday\", \"saturday\", \"sunday\",\n",
    "            ]\n",
    "        }\n",
    "    }\n",
    "]\n",
    "\n",
    "time_pattern = [\n",
    "    {\"ENT_TYPE\": \"TIME\"},\n",
    "    # {\"ORTH\": \":\"},\n",
    "    # {\"LIKE_NUM\": True},\n",
    "    # {\"LOWER\": {\"IN\": [\"am\", \"pm\", \"a.m.\", \"p.m.\"]}, \"OP\": \"?\"}\n",
    "]\n",
    "\n",
    "matcher.add(\"DaysOfWeekPattern\", [days_of_week_pattern])\n",
    "matcher.add(\"TimePattern\", [time_pattern])\n",
    "# matcher.add(\"TimePattern\", [time_pattern])"
   ]
  },
  {
   "cell_type": "code",
   "execution_count": 21,
   "metadata": {},
   "outputs": [
    {
     "name": "stdout",
     "output_type": "stream",
     "text": [
      "8:00 5297093186107294845\n",
      "- 5297093186107294845\n",
      "10:00 5297093186107294845\n"
     ]
    }
   ],
   "source": [
    "oh_examples = [\n",
    "    \"Mn-Fr 8:00 - 10:00, Su off\",\n",
    "    \"8:00-10:00\",\n",
    "]\n",
    "\n",
    "doc = nlp(oh_examples[1])\n",
    "\n",
    "for match_id, start, end in matcher(doc):\n",
    "    print(doc[start:end], match_id)"
   ]
  },
  {
   "cell_type": "code",
   "execution_count": 22,
   "metadata": {},
   "outputs": [
    {
     "data": {
      "text/plain": [
       "(None, [[{'ENT_TYPE': 'TIME'}]])"
      ]
     },
     "execution_count": 22,
     "metadata": {},
     "output_type": "execute_result"
    }
   ],
   "source": [
    "matcher.get(5297093186107294845)"
   ]
  },
  {
   "cell_type": "code",
   "execution_count": 16,
   "metadata": {},
   "outputs": [
    {
     "name": "stdout",
     "output_type": "stream",
     "text": [
      "TOKENS \n",
      "\n",
      "8:00 NUM\n",
      "- SYM\n",
      "10:00 NUM\n",
      "\n",
      "\n",
      "ENTS \n",
      "\n",
      "8:00-10:00 TIME\n",
      "DEPS \n",
      "\n"
     ]
    }
   ],
   "source": [
    "print(\"TOKENS\", \"\\n\")\n",
    "for token in doc:\n",
    "    print(token.text, token.pos_)\n",
    "\n",
    "print(\"\\n\")\n",
    "\n",
    "print(\"ENTS\", \"\\n\")\n",
    "for ent in doc.ents:\n",
    "    print(ent.text, ent.label_)\n",
    "\n",
    "\n",
    "print(\"DEPS\", \"\\n\")\n",
    "# for token in doc:\n",
    "#     print(token.text, token.dep_)"
   ]
  },
  {
   "cell_type": "code",
   "execution_count": null,
   "metadata": {},
   "outputs": [],
   "source": []
  }
 ],
 "metadata": {
  "kernelspec": {
   "display_name": "Python 3",
   "language": "python",
   "name": "python3"
  },
  "language_info": {
   "codemirror_mode": {
    "name": "ipython",
    "version": 3
   },
   "file_extension": ".py",
   "mimetype": "text/x-python",
   "name": "python",
   "nbconvert_exporter": "python",
   "pygments_lexer": "ipython3",
   "version": "3.10.12"
  },
  "orig_nbformat": 4
 },
 "nbformat": 4,
 "nbformat_minor": 2
}
