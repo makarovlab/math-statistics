{
 "cells": [
  {
   "cell_type": "markdown",
   "metadata": {},
   "source": [
    "##### Script which transforms Telegram JSON messages to CSV table"
   ]
  },
  {
   "cell_type": "code",
   "execution_count": 46,
   "metadata": {},
   "outputs": [],
   "source": [
    "import pandas as pd\n",
    "import json"
   ]
  },
  {
   "cell_type": "code",
   "execution_count": 47,
   "metadata": {},
   "outputs": [
    {
     "data": {
      "text/plain": [
       "Index(['name', 'type', 'id', 'messages'], dtype='object')"
      ]
     },
     "execution_count": 47,
     "metadata": {},
     "output_type": "execute_result"
    }
   ],
   "source": [
    "df = pd.read_json(\"./datasets/newdvatch.json\")\n",
    "df.columns"
   ]
  },
  {
   "cell_type": "code",
   "execution_count": 48,
   "metadata": {},
   "outputs": [
    {
     "data": {
      "text/plain": [
       "{'id': 3,\n",
       " 'type': 'message',\n",
       " 'date': '2020-09-22T16:51:27',\n",
       " 'date_unixtime': '1600786287',\n",
       " 'edited': '2021-12-30T14:07:51',\n",
       " 'edited_unixtime': '1640869671',\n",
       " 'from': 'Ньюсач/Двач',\n",
       " 'from_id': 'channel1166834860',\n",
       " 'file': '(File not included. Change data exporting settings to download.)',\n",
       " 'thumbnail': '(File not included. Change data exporting settings to download.)',\n",
       " 'media_type': 'video_file',\n",
       " 'mime_type': 'video/mp4',\n",
       " 'duration_seconds': 15,\n",
       " 'width': 270,\n",
       " 'height': 480,\n",
       " 'text': ['На юге Москвы вспыльчивый водитель едва не побил вышедшую из подъезда женщину, которая попросила его переставить машину. Агрессивного мужчину сняли на видео.\\n\\n\\nОбсуждение: ',\n",
       "  {'type': 'link', 'text': 'https://2ch.hk/news/res/8385947.html'},\n",
       "  ''],\n",
       " 'text_entities': [{'type': 'plain',\n",
       "   'text': 'На юге Москвы вспыльчивый водитель едва не побил вышедшую из подъезда женщину, которая попросила его переставить машину. Агрессивного мужчину сняли на видео.\\n\\n\\nОбсуждение: '},\n",
       "  {'type': 'link', 'text': 'https://2ch.hk/news/res/8385947.html'},\n",
       "  {'type': 'plain', 'text': ''}]}"
      ]
     },
     "execution_count": 48,
     "metadata": {},
     "output_type": "execute_result"
    }
   ],
   "source": [
    "df['messages'][1]"
   ]
  },
  {
   "cell_type": "code",
   "execution_count": 49,
   "metadata": {},
   "outputs": [],
   "source": [
    "def check_dict_type(dictionary: dict):\n",
    "    if type(dictionary) == dict and dictionary.get('type', None) == 'text':\n",
    "        return dictionary['text']\n",
    "    else:\n",
    "        return \"\"\n",
    "\n",
    "def parse_text(message_list: str | list):\n",
    "    output = []\n",
    "\n",
    "    if type(message_list) == str:\n",
    "        return message_list\n",
    "\n",
    "    else:\n",
    "        for msg in message_list:\n",
    "            if type(msg) == dict:\n",
    "                output.append(check_dict_type(msg))\n",
    "            elif type(msg) == str:\n",
    "                output.append(msg)\n",
    "        \n",
    "        return \" \".join(output)\n",
    "    \n",
    "\n",
    "df['messages'] = df['messages'].apply(lambda x: parse_text(x['text']))\n",
    "df.to_csv(\"./datasets/example.csv\")"
   ]
  }
 ],
 "metadata": {
  "kernelspec": {
   "display_name": "Python 3",
   "language": "python",
   "name": "python3"
  },
  "language_info": {
   "codemirror_mode": {
    "name": "ipython",
    "version": 3
   },
   "file_extension": ".py",
   "mimetype": "text/x-python",
   "name": "python",
   "nbconvert_exporter": "python",
   "pygments_lexer": "ipython3",
   "version": "3.10.6"
  },
  "orig_nbformat": 4
 },
 "nbformat": 4,
 "nbformat_minor": 2
}
