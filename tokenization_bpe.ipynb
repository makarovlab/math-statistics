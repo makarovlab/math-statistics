{
 "cells": [
  {
   "attachments": {},
   "cell_type": "markdown",
   "metadata": {},
   "source": [
    "#### Byte-Pair Encoding (BPE) Tokenization\n",
    "\n",
    "This algorithm is similar to WordPiece tokenization, but it uses a different approach to splitting up words into subword units."
   ]
  }
 ],
 "metadata": {
  "language_info": {
   "name": "python"
  },
  "orig_nbformat": 4
 },
 "nbformat": 4,
 "nbformat_minor": 2
}
