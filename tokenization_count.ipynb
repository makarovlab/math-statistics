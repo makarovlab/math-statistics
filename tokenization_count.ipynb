{
 "cells": [
  {
   "cell_type": "code",
   "execution_count": 1,
   "metadata": {},
   "outputs": [
    {
     "name": "stderr",
     "output_type": "stream",
     "text": [
      "[nltk_data] Downloading package stopwords to /home/max/nltk_data...\n",
      "[nltk_data]   Package stopwords is already up-to-date!\n",
      "[nltk_data] Downloading package wordnet to /home/max/nltk_data...\n",
      "[nltk_data]   Package wordnet is already up-to-date!\n",
      "[nltk_data] Downloading package omw-1.4 to /home/max/nltk_data...\n",
      "[nltk_data]   Package omw-1.4 is already up-to-date!\n"
     ]
    },
    {
     "data": {
      "text/plain": [
       "True"
      ]
     },
     "execution_count": 1,
     "metadata": {},
     "output_type": "execute_result"
    }
   ],
   "source": [
    "from sklearn.feature_extraction.text import CountVectorizer, TfidfVectorizer\n",
    "import pandas as pd\n",
    "import json\n",
    "import re\n",
    "import string\n",
    "import nltk\n",
    "nltk.download('stopwords')\n",
    "nltk.download('wordnet')\n",
    "nltk.download('omw-1.4')"
   ]
  },
  {
   "cell_type": "code",
   "execution_count": 2,
   "metadata": {},
   "outputs": [],
   "source": [
    "with open(\"./datasets/newdvatch.json\", 'r') as file:\n",
    "    text = json.loads(file.read())\n"
   ]
  },
  {
   "cell_type": "code",
   "execution_count": 3,
   "metadata": {},
   "outputs": [],
   "source": [
    "stopwords = nltk.corpus.stopwords.words('russian')\n",
    "wn = nltk.WordNetLemmatizer()\n",
    "\n",
    "def rem_stopwords(sentence: list):\n",
    "  return [word for word in sentence if word not in stopwords]\n",
    "\n",
    "\n",
    "def is_fully_digits(text):\n",
    "  return all([char.isdigit() for char in text])\n",
    "\n",
    "def calc_capital(text):\n",
    "  percent = sum([1 for symbol in text if symbol.isupper()]) / (len(text) - text.count(\" \"))\n",
    "  return round(percent, 3) * 100\n",
    "\n",
    "  \n",
    "def calc_punct(text):\n",
    "  percent = sum([1 for symbol in text if symbol in string.punctuation]) / (len(text) - text.count(\" \"))\n",
    "  return round(percent, 3) * 100\n",
    "\n",
    "def clean_text(text: str):\n",
    "  # Remove punctuation\n",
    "  cleaned_punct: str = \"\".join([symbol for symbol in text if symbol not in string.punctuation])\n",
    "  \n",
    "  # Implement tokenization\n",
    "  tokenized: list = re.split(\"\\W+\", text.lower())\n",
    "\n",
    "  cleaned_fully_digits = [word for word in tokenized if not is_fully_digits(word)]\n",
    "\n",
    "  # Remove stopwords & Lemmatize\n",
    "  nostopwords_and_lemmatized = [wn.lemmatize(word) for word in cleaned_fully_digits if word not in stopwords]\n",
    "  # lemmatized = [wn.lemmatize(word) for word in cleaned_fully_digits]\n",
    "\n",
    "  return nostopwords_and_lemmatized"
   ]
  },
  {
   "cell_type": "code",
   "execution_count": 4,
   "metadata": {},
   "outputs": [],
   "source": [
    "msgs = []\n",
    "\n",
    "for index, message in enumerate(text['messages']):\n",
    "    \n",
    "    if type(message['text']) == list:\n",
    "        \n",
    "        joined_text = \"\".join([m_text.replace(\"Обсуждение\", \"\") for m_text in message['text'] if type(m_text) == str])\n",
    "        msgs.append(joined_text)\n",
    "    \n",
    "    elif type(message['text']) == str:\n",
    "        if len(message['text']):\n",
    "            msgs.append(message['text'].replace(\"Обсуждение\", \"\"))"
   ]
  },
  {
   "cell_type": "code",
   "execution_count": 5,
   "metadata": {},
   "outputs": [
    {
     "data": {
      "text/plain": [
       "30995"
      ]
     },
     "execution_count": 5,
     "metadata": {},
     "output_type": "execute_result"
    }
   ],
   "source": [
    "len(msgs)"
   ]
  },
  {
   "cell_type": "code",
   "execution_count": 20,
   "metadata": {},
   "outputs": [],
   "source": [
    "df = pd.DataFrame({\"label\": ['n' for i in range(29000,30995)], \"message\": msgs[29000:30995]})\n",
    "df['message'] = df['message'].str.replace(\"\\n\", \" \")\n",
    "df.to_csv(\"newsdvatch.csv\", index=False)"
   ]
  },
  {
   "cell_type": "code",
   "execution_count": 16,
   "metadata": {},
   "outputs": [
    {
     "data": {
      "text/plain": [
       "<30995x10000 sparse matrix of type '<class 'numpy.int64'>'\n",
       "\twith 420397 stored elements in Compressed Sparse Row format>"
      ]
     },
     "execution_count": 16,
     "metadata": {},
     "output_type": "execute_result"
    }
   ],
   "source": [
    "count_vect = CountVectorizer(ngram_range=(1,1),  max_features=10000, analyzer=clean_text)\n",
    "X = count_vect.fit_transform(df.message)\n",
    "X"
   ]
  },
  {
   "cell_type": "code",
   "execution_count": 17,
   "metadata": {},
   "outputs": [
    {
     "name": "stderr",
     "output_type": "stream",
     "text": [
      "/home/max/.local/lib/python3.10/site-packages/sklearn/utils/deprecation.py:87: FutureWarning: Function get_feature_names is deprecated; get_feature_names is deprecated in 1.0 and will be removed in 1.2. Please use get_feature_names_out instead.\n",
      "  warnings.warn(msg, category=FutureWarning)\n"
     ]
    },
    {
     "data": {
      "text/html": [
       "<div>\n",
       "<style scoped>\n",
       "    .dataframe tbody tr th:only-of-type {\n",
       "        vertical-align: middle;\n",
       "    }\n",
       "\n",
       "    .dataframe tbody tr th {\n",
       "        vertical-align: top;\n",
       "    }\n",
       "\n",
       "    .dataframe thead th {\n",
       "        text-align: right;\n",
       "    }\n",
       "</style>\n",
       "<table border=\"1\" class=\"dataframe\">\n",
       "  <thead>\n",
       "    <tr style=\"text-align: right;\">\n",
       "      <th></th>\n",
       "      <th>5g</th>\n",
       "      <th>a</th>\n",
       "      <th>air</th>\n",
       "      <th>airline</th>\n",
       "      <th>aka</th>\n",
       "      <th>amazon</th>\n",
       "      <th>app</th>\n",
       "      <th>apple</th>\n",
       "      <th>audi</th>\n",
       "      <th>b</th>\n",
       "      <th>...</th>\n",
       "      <th>японии</th>\n",
       "      <th>япония</th>\n",
       "      <th>японская</th>\n",
       "      <th>японской</th>\n",
       "      <th>ярмыш</th>\n",
       "      <th>ярослав</th>\n",
       "      <th>ярославской</th>\n",
       "      <th>ясно</th>\n",
       "      <th>яшина</th>\n",
       "      <th>ё</th>\n",
       "    </tr>\n",
       "  </thead>\n",
       "  <tbody>\n",
       "    <tr>\n",
       "      <th>0</th>\n",
       "      <td>0</td>\n",
       "      <td>0</td>\n",
       "      <td>0</td>\n",
       "      <td>0</td>\n",
       "      <td>0</td>\n",
       "      <td>0</td>\n",
       "      <td>0</td>\n",
       "      <td>0</td>\n",
       "      <td>0</td>\n",
       "      <td>0</td>\n",
       "      <td>...</td>\n",
       "      <td>0</td>\n",
       "      <td>0</td>\n",
       "      <td>0</td>\n",
       "      <td>0</td>\n",
       "      <td>0</td>\n",
       "      <td>0</td>\n",
       "      <td>0</td>\n",
       "      <td>0</td>\n",
       "      <td>0</td>\n",
       "      <td>0</td>\n",
       "    </tr>\n",
       "    <tr>\n",
       "      <th>1</th>\n",
       "      <td>0</td>\n",
       "      <td>0</td>\n",
       "      <td>0</td>\n",
       "      <td>0</td>\n",
       "      <td>0</td>\n",
       "      <td>0</td>\n",
       "      <td>0</td>\n",
       "      <td>0</td>\n",
       "      <td>0</td>\n",
       "      <td>0</td>\n",
       "      <td>...</td>\n",
       "      <td>0</td>\n",
       "      <td>0</td>\n",
       "      <td>0</td>\n",
       "      <td>0</td>\n",
       "      <td>0</td>\n",
       "      <td>0</td>\n",
       "      <td>0</td>\n",
       "      <td>0</td>\n",
       "      <td>0</td>\n",
       "      <td>0</td>\n",
       "    </tr>\n",
       "    <tr>\n",
       "      <th>2</th>\n",
       "      <td>0</td>\n",
       "      <td>0</td>\n",
       "      <td>0</td>\n",
       "      <td>0</td>\n",
       "      <td>0</td>\n",
       "      <td>0</td>\n",
       "      <td>0</td>\n",
       "      <td>0</td>\n",
       "      <td>0</td>\n",
       "      <td>0</td>\n",
       "      <td>...</td>\n",
       "      <td>0</td>\n",
       "      <td>0</td>\n",
       "      <td>0</td>\n",
       "      <td>0</td>\n",
       "      <td>0</td>\n",
       "      <td>0</td>\n",
       "      <td>0</td>\n",
       "      <td>0</td>\n",
       "      <td>0</td>\n",
       "      <td>0</td>\n",
       "    </tr>\n",
       "    <tr>\n",
       "      <th>3</th>\n",
       "      <td>0</td>\n",
       "      <td>0</td>\n",
       "      <td>0</td>\n",
       "      <td>0</td>\n",
       "      <td>0</td>\n",
       "      <td>0</td>\n",
       "      <td>0</td>\n",
       "      <td>0</td>\n",
       "      <td>0</td>\n",
       "      <td>0</td>\n",
       "      <td>...</td>\n",
       "      <td>0</td>\n",
       "      <td>0</td>\n",
       "      <td>0</td>\n",
       "      <td>0</td>\n",
       "      <td>0</td>\n",
       "      <td>0</td>\n",
       "      <td>0</td>\n",
       "      <td>0</td>\n",
       "      <td>0</td>\n",
       "      <td>0</td>\n",
       "    </tr>\n",
       "    <tr>\n",
       "      <th>4</th>\n",
       "      <td>0</td>\n",
       "      <td>0</td>\n",
       "      <td>0</td>\n",
       "      <td>0</td>\n",
       "      <td>0</td>\n",
       "      <td>0</td>\n",
       "      <td>0</td>\n",
       "      <td>0</td>\n",
       "      <td>0</td>\n",
       "      <td>0</td>\n",
       "      <td>...</td>\n",
       "      <td>0</td>\n",
       "      <td>0</td>\n",
       "      <td>0</td>\n",
       "      <td>0</td>\n",
       "      <td>0</td>\n",
       "      <td>0</td>\n",
       "      <td>0</td>\n",
       "      <td>0</td>\n",
       "      <td>0</td>\n",
       "      <td>0</td>\n",
       "    </tr>\n",
       "  </tbody>\n",
       "</table>\n",
       "<p>5 rows × 10000 columns</p>\n",
       "</div>"
      ],
      "text/plain": [
       "   5g  a  air  airline  aka  amazon  app  apple  audi  b  ...  японии  япония  \\\n",
       "0   0  0    0        0    0       0    0      0     0  0  ...       0       0   \n",
       "1   0  0    0        0    0       0    0      0     0  0  ...       0       0   \n",
       "2   0  0    0        0    0       0    0      0     0  0  ...       0       0   \n",
       "3   0  0    0        0    0       0    0      0     0  0  ...       0       0   \n",
       "4   0  0    0        0    0       0    0      0     0  0  ...       0       0   \n",
       "\n",
       "   японская  японской  ярмыш  ярослав  ярославской  ясно  яшина  ё  \n",
       "0         0         0      0        0            0     0      0  0  \n",
       "1         0         0      0        0            0     0      0  0  \n",
       "2         0         0      0        0            0     0      0  0  \n",
       "3         0         0      0        0            0     0      0  0  \n",
       "4         0         0      0        0            0     0      0  0  \n",
       "\n",
       "[5 rows x 10000 columns]"
      ]
     },
     "execution_count": 17,
     "metadata": {},
     "output_type": "execute_result"
    }
   ],
   "source": [
    "tokenized_df = pd.DataFrame(X.toarray(), columns=count_vect.get_feature_names())\n",
    "tokenized_df.head()"
   ]
  }
 ],
 "metadata": {
  "kernelspec": {
   "display_name": "Python 3",
   "language": "python",
   "name": "python3"
  },
  "language_info": {
   "codemirror_mode": {
    "name": "ipython",
    "version": 3
   },
   "file_extension": ".py",
   "mimetype": "text/x-python",
   "name": "python",
   "nbconvert_exporter": "python",
   "pygments_lexer": "ipython3",
   "version": "3.10.6"
  },
  "orig_nbformat": 4
 },
 "nbformat": 4,
 "nbformat_minor": 2
}
