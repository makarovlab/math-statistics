{
 "cells": [
  {
   "cell_type": "code",
   "execution_count": 59,
   "metadata": {},
   "outputs": [],
   "source": [
    "from keras.datasets import imdb\n",
    "from keras.models import Sequential\n",
    "from keras.layers import Dense, Dropout, Flatten, Embedding\n",
    "from keras.utils import pad_sequences\n",
    "import numpy as np\n",
    "import matplotlib.pyplot as plt\n",
    "%matplotlib inline"
   ]
  },
  {
   "cell_type": "code",
   "execution_count": 67,
   "metadata": {},
   "outputs": [],
   "source": [
    "max_words = 10000"
   ]
  },
  {
   "cell_type": "code",
   "execution_count": 85,
   "metadata": {},
   "outputs": [],
   "source": [
    "'''\n",
    "При указании параметра max_words, слова с индексом более 10000 не будут учитыватся\n",
    "и отзывы будут модифицированы так что в низ останутся только самые популырные слова.\n",
    "'''\n",
    "\n",
    "dataset = imdb.load_data(num_words=max_words)\n",
    "word_index = imdb.get_word_index()"
   ]
  },
  {
   "cell_type": "code",
   "execution_count": 84,
   "metadata": {},
   "outputs": [],
   "source": [
    "(X_train, y_train), (X_test, y_test) = dataset"
   ]
  },
  {
   "cell_type": "code",
   "execution_count": 73,
   "metadata": {},
   "outputs": [
    {
     "data": {
      "text/plain": [
       "88584"
      ]
     },
     "execution_count": 73,
     "metadata": {},
     "output_type": "execute_result"
    }
   ],
   "source": [
    "# word_index позволяет декодировать слова.\n",
    "# в датасете каждое слово закодировано частотой встречаемости слова в сети\n",
    "len(word_index.keys())"
   ]
  },
  {
   "cell_type": "code",
   "execution_count": 95,
   "metadata": {},
   "outputs": [],
   "source": [
    "# Нейросеть может принимать ограниченное количество символов, поэтому установим максимальную длину отзыва и преобразуем данные к этому виду:\n",
    "\n",
    "maxlen = 200\n",
    "\n",
    "X_train = pad_sequences(X_train, maxlen=maxlen, padding=\"post\")\n",
    "X_test = pad_sequences(X_test, maxlen=maxlen, padding=\"post\")"
   ]
  },
  {
   "cell_type": "code",
   "execution_count": 119,
   "metadata": {},
   "outputs": [],
   "source": [
    "model = Sequential()\n",
    "model.add(Embedding(max_words, 2, input_length=maxlen))\n",
    "model.add(Dropout(0.25))\n",
    "model.add(Flatten())\n",
    "model.add(Dense(1, activation=\"sigmoid\"))"
   ]
  },
  {
   "cell_type": "code",
   "execution_count": 120,
   "metadata": {},
   "outputs": [],
   "source": [
    "model.compile(\n",
    "    optimizer=\"adam\",\n",
    "    loss=\"binary_crossentropy\",\n",
    "    metrics=[\"accuracy\"]\n",
    "    )\n"
   ]
  },
  {
   "cell_type": "code",
   "execution_count": 121,
   "metadata": {},
   "outputs": [
    {
     "name": "stdout",
     "output_type": "stream",
     "text": [
      "Epoch 1/15\n",
      "176/176 [==============================] - 2s 7ms/step - loss: 0.6904 - accuracy: 0.5396 - val_loss: 0.6781 - val_accuracy: 0.6648\n",
      "Epoch 2/15\n",
      "176/176 [==============================] - 1s 7ms/step - loss: 0.6026 - accuracy: 0.7507 - val_loss: 0.5110 - val_accuracy: 0.8008\n",
      "Epoch 3/15\n",
      "176/176 [==============================] - 1s 7ms/step - loss: 0.4293 - accuracy: 0.8363 - val_loss: 0.3909 - val_accuracy: 0.8456\n",
      "Epoch 4/15\n",
      "176/176 [==============================] - 1s 6ms/step - loss: 0.3374 - accuracy: 0.8737 - val_loss: 0.3432 - val_accuracy: 0.8616\n",
      "Epoch 5/15\n",
      "176/176 [==============================] - 1s 6ms/step - loss: 0.2909 - accuracy: 0.8889 - val_loss: 0.3171 - val_accuracy: 0.8768\n",
      "Epoch 6/15\n",
      "176/176 [==============================] - 1s 6ms/step - loss: 0.2604 - accuracy: 0.9022 - val_loss: 0.3033 - val_accuracy: 0.8828\n",
      "Epoch 7/15\n",
      "176/176 [==============================] - 1s 7ms/step - loss: 0.2380 - accuracy: 0.9132 - val_loss: 0.2969 - val_accuracy: 0.8836\n",
      "Epoch 8/15\n",
      "176/176 [==============================] - 1s 6ms/step - loss: 0.2184 - accuracy: 0.9187 - val_loss: 0.2900 - val_accuracy: 0.8832\n",
      "Epoch 9/15\n",
      "176/176 [==============================] - 1s 6ms/step - loss: 0.2069 - accuracy: 0.9249 - val_loss: 0.2863 - val_accuracy: 0.8868\n",
      "Epoch 10/15\n",
      "176/176 [==============================] - 1s 6ms/step - loss: 0.1964 - accuracy: 0.9279 - val_loss: 0.2892 - val_accuracy: 0.8848\n",
      "Epoch 11/15\n",
      "176/176 [==============================] - 1s 6ms/step - loss: 0.1856 - accuracy: 0.9330 - val_loss: 0.2847 - val_accuracy: 0.8832\n",
      "Epoch 12/15\n",
      "176/176 [==============================] - 1s 6ms/step - loss: 0.1759 - accuracy: 0.9377 - val_loss: 0.2881 - val_accuracy: 0.8816\n",
      "Epoch 13/15\n",
      "176/176 [==============================] - 1s 6ms/step - loss: 0.1674 - accuracy: 0.9418 - val_loss: 0.2878 - val_accuracy: 0.8832\n",
      "Epoch 14/15\n",
      "176/176 [==============================] - 1s 7ms/step - loss: 0.1604 - accuracy: 0.9427 - val_loss: 0.2872 - val_accuracy: 0.8888\n",
      "Epoch 15/15\n",
      "176/176 [==============================] - 1s 6ms/step - loss: 0.1538 - accuracy: 0.9473 - val_loss: 0.2897 - val_accuracy: 0.8856\n"
     ]
    }
   ],
   "source": [
    "history = model.fit(\n",
    "                X_train,\n",
    "                y_train,\n",
    "                epochs=15,\n",
    "                batch_size=128,\n",
    "                validation_split=0.1\n",
    "            )"
   ]
  },
  {
   "cell_type": "code",
   "execution_count": 115,
   "metadata": {},
   "outputs": [
    {
     "data": {
      "text/plain": [
       "[0.5392000079154968,\n",
       " 0.7445777654647827,\n",
       " 0.838088870048523,\n",
       " 0.8726666569709778,\n",
       " 0.8889333605766296,\n",
       " 0.9012888669967651,\n",
       " 0.9091110825538635,\n",
       " 0.9164888858795166,\n",
       " 0.9225333333015442,\n",
       " 0.9294221997261047,\n",
       " 0.9345333576202393,\n",
       " 0.9357333183288574,\n",
       " 0.9402222037315369,\n",
       " 0.9420889019966125,\n",
       " 0.9447555541992188]"
      ]
     },
     "execution_count": 115,
     "metadata": {},
     "output_type": "execute_result"
    }
   ],
   "source": [
    "plt.plot(history.history[\"accuracy\"], label=\"Доля правильных ответов на обучающем наборе данных\")\n",
    "plt.plot(history.history[\"val_accuracy\"], label=\"Доля правильных ответов на валидационном наборе данных\")"
   ]
  }
 ],
 "metadata": {
  "kernelspec": {
   "display_name": "Python 3",
   "language": "python",
   "name": "python3"
  },
  "language_info": {
   "codemirror_mode": {
    "name": "ipython",
    "version": 3
   },
   "file_extension": ".py",
   "mimetype": "text/x-python",
   "name": "python",
   "nbconvert_exporter": "python",
   "pygments_lexer": "ipython3",
   "version": "3.10.12"
  }
 },
 "nbformat": 4,
 "nbformat_minor": 2
}
